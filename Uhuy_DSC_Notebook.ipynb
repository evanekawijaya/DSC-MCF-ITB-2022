{
  "nbformat": 4,
  "nbformat_minor": 0,
  "metadata": {
    "colab": {
      "name": "Uhuy-DSC-Penyisihan-Notebook.ipynb",
      "provenance": [],
      "collapsed_sections": [
        "qOrLPnoTheB7",
        "nqF0FPOQhhyf",
        "_I7p1J4WjKbB",
        "XmrKvcVaiwex",
        "QX6QFu-CVNi5",
        "MghZP3AaVVYK",
        "rAvzD6sCjWzQ"
      ],
      "include_colab_link": true
    },
    "kernelspec": {
      "name": "python3",
      "display_name": "Python 3"
    },
    "language_info": {
      "name": "python"
    }
  },
  "cells": [
    {
      "cell_type": "markdown",
      "metadata": {
        "id": "view-in-github",
        "colab_type": "text"
      },
      "source": [
        "<a href=\"https://colab.research.google.com/github/evanekawijaya/DSC-MCF-ITB-2022/blob/main/Uhuy_DSC_Notebook.ipynb\" target=\"_parent\"><img src=\"https://colab.research.google.com/assets/colab-badge.svg\" alt=\"Open In Colab\"/></a>"
      ]
    },
    {
      "cell_type": "markdown",
      "source": [
        "**Uhuy**\n",
        "\n",
        "  Melvin Putra, Maxwell Thomson, Evan Eka Wijaya\n"
      ],
      "metadata": {
        "id": "DprLrnO8i6Nt"
      }
    },
    {
      "cell_type": "markdown",
      "source": [
        "# *Import Packages*"
      ],
      "metadata": {
        "id": "qOrLPnoTheB7"
      }
    },
    {
      "cell_type": "code",
      "execution_count": null,
      "metadata": {
        "id": "y4Y_ubg9KLSH",
        "colab": {
          "base_uri": "https://localhost:8080/"
        },
        "outputId": "866923a0-6584-4411-dcf2-13fef3ed48ad"
      },
      "outputs": [
        {
          "output_type": "stream",
          "name": "stdout",
          "text": [
            "Mounted at /content/drive\n"
          ]
        }
      ],
      "source": [
        "import pandas as pd\n",
        "import numpy as np\n",
        "import matplotlib.pyplot as plt\n",
        "import seaborn as sns\n",
        "%matplotlib inline\n",
        "from google.colab import drive\n",
        "drive.mount('/content/drive')\n",
        "\n",
        "from sklearn.linear_model import LinearRegression\n",
        "from sklearn.model_selection import cross_val_score\n",
        "from sklearn.metrics import  mean_squared_error\n",
        "\n",
        "import warnings\n",
        "warnings.filterwarnings(\"ignore\", category=DeprecationWarning)\n",
        "pd.options.mode.chained_assignment = None "
      ]
    },
    {
      "cell_type": "markdown",
      "source": [
        "# *Read Data*"
      ],
      "metadata": {
        "id": "nqF0FPOQhhyf"
      }
    },
    {
      "cell_type": "code",
      "source": [
        "#Data untuk EDA\n",
        "pdrb = pd.read_excel('/content/drive/MyDrive/mcf2022/Eksternal/Q1 - PDRB per Kapita Prov (2015-2020).xlsx').set_index('Provinsi')\n",
        "ppp = pd.read_excel('/content/drive/MyDrive/mcf2022/Eksternal/Q1 - PPP Prov (2015-2021).xlsx').iloc[:,:-1]\n",
        "uhh = pd.read_excel('/content/drive/MyDrive/mcf2022/Eksternal/Q2 - UHH (2015-2021).xlsx').iloc[:,:-1]\n",
        "pdb_lu_hk = pd.read_excel('/content/drive/MyDrive/mcf2022/Eksternal/Q3 - Simplified PDB Sektor  (2015-2021).xlsx').set_index('PDB Lapangan Usaha (Seri 2010)').iloc[:17,:-2:2]\n",
        "wisata = pd.read_excel('/content/drive/MyDrive/mcf2022/Eksternal/Q3 - Jumlah Kunjungan Wisatawan.xlsx')\n",
        "p1=pd.read_csv('/content/drive/MyDrive/mcf2022/Eksternal/Q4 - P1.csv',delimiter=';').iloc[:,0:8].dropna().set_index('Provinsi')\n",
        "p2=pd.read_csv('/content/drive/MyDrive/mcf2022/Eksternal/Q4 - P2.csv',delimiter=';').iloc[:,0:8].dropna().set_index('Provinsi')\n",
        "jpm_total=pd.read_csv('/content/drive/MyDrive/mcf2022/Eksternal/Q4 - Jumlah Penduduk Miskin (Ribu Jiwa)_V2.csv',delimiter=';').iloc[:,0:15].dropna().set_index('Provinsi')\n",
        "\n",
        "#Data untuk pemodelan\n",
        "train = pd.read_csv('/content/drive/MyDrive/mcf2022/Data_Train.csv')\n",
        "test = pd.read_csv('/content/drive/MyDrive/mcf2022/Data_Test.csv')\n",
        "sub = pd.read_csv('/content/drive/MyDrive/mcf2022/Sample_Submission (1).csv')\n",
        "\n",
        "#Membuat dataframe baru yang berisi hanya provinsi dan mengganti nama kolom 'Provinsi/Kabupaten/Kota' menjadi 'Provinsi' untuk ppp dan uhh\n",
        "ppp_prov = ppp[ppp['Provinsi/Kabupaten/Kota'].str.isupper()].rename(columns = {'Provinsi/Kabupaten/Kota':'Provinsi'}).set_index('Provinsi') \n",
        "uhh_prov = uhh[uhh['Provinsi/Kabupaten/Kota'].str.isupper()].rename(columns = {'Provinsi/Kabupaten/Kota':'Provinsi'}).set_index('Provinsi')\n",
        "\n",
        "#Membuat dataframe baru yang hanya berisi data dari semester 1 untuk setiap tahun\n",
        "jpm_total_tahunan = jpm_total[[col for col in jpm_total.columns if 'S1' in col]]"
      ],
      "metadata": {
        "id": "yNweIdQEhj7J"
      },
      "execution_count": null,
      "outputs": []
    },
    {
      "cell_type": "markdown",
      "source": [
        "# EDA"
      ],
      "metadata": {
        "id": "_I7p1J4WjKbB"
      }
    },
    {
      "cell_type": "markdown",
      "source": [
        "## Q1"
      ],
      "metadata": {
        "id": "oyU-YOPSiTsv"
      }
    },
    {
      "cell_type": "markdown",
      "source": [
        "### Function"
      ],
      "metadata": {
        "id": "PZnMeiSTmX22"
      }
    },
    {
      "cell_type": "code",
      "source": [
        "pulau = {'Sumatera':0,'Jawa':1,'NT_Bali':2,'Kalimantan':3,'Sulawesi':4,'Maluku_Papua':5} #dictionary yang berisi pasangan nama pulau dengan index yang ditetapkan\n",
        "pix = [0,10,16,19,24,30,34] #index pulau-pulau dalam data\n",
        "\n",
        "#Function yang digunakan untuk menampilkan Year-over-Year (YoY) PDB Indonesia (Harga Konstan). \n",
        "def Q1_YoY_PDB():\n",
        "  #Pertama-tama dilakukan slicing dataframe untuk keseluruhan Indonesia dan memanfaatkan pct_change untuk memperoleh YoY tahunan.\n",
        "  pdb_indonesia_hk = pdrb.iloc[-1,6:12].to_frame(name='pdb')\n",
        "  pdb_indonesia_hk['YoY'] = pdb_indonesia_hk['pdb'].pct_change()*100\n",
        "\n",
        "  #Setelah itu memvisualisasikan bar chart dengan matplotlib.\n",
        "  fig, ax1 = plt.subplots(figsize=(6, 6))\n",
        "  ax1.bar(range(2015,2021), pdb_indonesia_hk['YoY'], color=np.where(pdb_indonesia_hk['YoY'] < 0, 'crimson', 'deepskyblue'))\n",
        "  plt.title('PDB per Kapita (Harga Konstan) - YoY 2016-2020', fontsize = 14)\n",
        "  plt.grid()\n",
        "  ax1.set_ylabel('YoY (%)', fontsize = 14)\n",
        "\n",
        "#Function yang digunakan untuk menampilkan Year-over-Year (YoY) rata-rata PDRB dari 6 Pulau di Indonesia (Harga Konstan). \n",
        "#Argumen yang diterima merupakan nama pulau (salah satu dari key dictionary pulau). \n",
        "def Q1_YoY_Mean_PDRB(nama):\n",
        "  #Pertama-tama dilakukan slicing dataframe sesuai dengan indent provinsi yang sesuai dengan argumen pulau dan memanfaatkan pct_change untuk memperoleh YoY tahunan.\n",
        "  i = pulau[nama]\n",
        "  pdrb_hk = pdrb.drop(columns=pdrb.columns[:6]).iloc[pix[i]:pix[i+1],:]\n",
        "  pdrb_hk_yoy = (pdrb_hk.pct_change(axis=1)*100).dropna(axis=1)\n",
        "  pdrb_hk_yoy.loc['Rata-rata'] = pdrb_hk_yoy.mean()\n",
        "  pdrb_hk_yoy_rata2 = pdrb_hk_yoy.iloc[-1,:].to_frame(name='YoY (mean)')\n",
        "\n",
        "  #Setelah itu memvisualisasikan bar chart dengan matplotlib.\n",
        "  fig, ax1 = plt.subplots(figsize=(6, 6))\n",
        "  ax1.bar(range(2016,2021), pdrb_hk_yoy_rata2['YoY (mean)'], color=np.where(pdrb_hk_yoy_rata2['YoY (mean)'] < 0, 'crimson', 'deepskyblue'))\n",
        "  plt.title(f'Rata-rata PDRB HK (Pulau {nama}) - YoY 2016-2020', fontsize = 14)\n",
        "  plt.grid()\n",
        "  ax1.set_ylabel('YoY (%)', fontsize = 14)"
      ],
      "metadata": {
        "id": "RIoVWkWa3Un8"
      },
      "execution_count": null,
      "outputs": []
    },
    {
      "cell_type": "markdown",
      "source": [
        "### PDB Indonesia"
      ],
      "metadata": {
        "id": "eYJi__gema3e"
      }
    },
    {
      "cell_type": "code",
      "source": [
        "Q1_YoY_PDB() #Contoh penggunaan fungsi 'Q1_YoY_PDB'"
      ],
      "metadata": {
        "colab": {
          "base_uri": "https://localhost:8080/",
          "height": 391
        },
        "id": "owJT9feZ5Qt3",
        "outputId": "f8205e6d-3388-42c1-ca66-ff5777685f1c"
      },
      "execution_count": null,
      "outputs": [
        {
          "output_type": "display_data",
          "data": {
            "image/png": "[encoded data removed]",
            "text/plain": [
              "<Figure size 432x432 with 1 Axes>"
            ]
          },
          "metadata": {
            "needs_background": "light"
          }
        }
      ]
    },
    {
      "cell_type": "markdown",
      "source": [
        "### PDRB Pulau Indonesia"
      ],
      "metadata": {
        "id": "ku_a41QrmdGw"
      }
    },
    {
      "cell_type": "code",
      "source": [
        "#Contoh penggunaan fungsi 'Q1_YoY_Mean_PDRB' untuk data pulau Sumatera dan Jawa\n",
        "Q1_YoY_Mean_PDRB('Sumatera')\n",
        "Q1_YoY_Mean_PDRB('Jawa')"
      ],
      "metadata": {
        "colab": {
          "base_uri": "https://localhost:8080/",
          "height": 765
        },
        "id": "SLVNFKEw5U0J",
        "outputId": "f27b808f-4a3a-4097-c9d1-2a1b7f348089"
      },
      "execution_count": null,
      "outputs": [
        {
          "output_type": "display_data",
          "data": {
            "image/png": "[encoded data removed]",
            "text/plain": [
              "<Figure size 432x432 with 1 Axes>"
            ]
          },
          "metadata": {
            "needs_background": "light"
          }
        },
        {
          "output_type": "display_data",
          "data": {
            "image/png": "[encoded data removed]",
            "text/plain": [
              "<Figure size 432x432 with 1 Axes>"
            ]
          },
          "metadata": {
            "needs_background": "light"
          }
        }
      ]
    },
    {
      "cell_type": "markdown",
      "source": [
        "### PDRB Provinsi"
      ],
      "metadata": {
        "id": "ij80E9mFmqPz"
      }
    },
    {
      "cell_type": "code",
      "source": [
        "pdrb_hk = pdrb.iloc[:,6:13] #Dataframe baru yang telah dislicing untuk data PDRB harga konstan\n",
        "pdrb_hk_pct_change = (pdrb_hk.pct_change(axis=1)*100).dropna(axis=1) #Dataframe baru yang berisi data tingkat perubahan PDRB harga konstan YoY (dalam persen) dan membuang kolom NA\n",
        "pdrb_hk_pct_change = pdrb_hk_pct_change.sort_values(by='PDRB - HK (2020)',ascending=False) #Mengurutkan data berdasarkan persentase pertumbuhan tahun 2020, dari besar ke kecil\n",
        "\n",
        "pdrb_hk_pct_change.describe() #Menunjukkan statistik deskriptif untuk data tingkat perubahan PDRB harga konstan YoY "
      ],
      "metadata": {
        "colab": {
          "base_uri": "https://localhost:8080/",
          "height": 300
        },
        "id": "MD3C6Ok6sqaO",
        "outputId": "0be4a223-0a1d-4fb6-f4e8-de0aa80c4321"
      },
      "execution_count": null,
      "outputs": [
        {
          "output_type": "execute_result",
          "data": {
            "text/html": [
              "\n",
              "  <div id=\"df-09fdb043-af69-43da-a979-f20faed61a71\">\n",
              "    <div class=\"colab-df-container\">\n",
              "      <div>\n",
              "<style scoped>\n",
              "    .dataframe tbody tr th:only-of-type {\n",
              "        vertical-align: middle;\n",
              "    }\n",
              "\n",
              "    .dataframe tbody tr th {\n",
              "        vertical-align: top;\n",
              "    }\n",
              "\n",
              "    .dataframe thead th {\n",
              "        text-align: right;\n",
              "    }\n",
              "</style>\n",
              "<table border=\"1\" class=\"dataframe\">\n",
              "  <thead>\n",
              "    <tr style=\"text-align: right;\">\n",
              "      <th></th>\n",
              "      <th>PDRB - HK (2016)</th>\n",
              "      <th>PDRB - HK (2017)</th>\n",
              "      <th>PDRB - HK (2018)</th>\n",
              "      <th>PDRB - HK (2019)</th>\n",
              "      <th>PDRB - HK (2020)</th>\n",
              "    </tr>\n",
              "  </thead>\n",
              "  <tbody>\n",
              "    <tr>\n",
              "      <th>count</th>\n",
              "      <td>35.000000</td>\n",
              "      <td>35.000000</td>\n",
              "      <td>35.000000</td>\n",
              "      <td>35.000000</td>\n",
              "      <td>35.000000</td>\n",
              "    </tr>\n",
              "    <tr>\n",
              "      <th>mean</th>\n",
              "      <td>3.618728</td>\n",
              "      <td>3.555254</td>\n",
              "      <td>4.015123</td>\n",
              "      <td>3.128965</td>\n",
              "      <td>-2.711863</td>\n",
              "    </tr>\n",
              "    <tr>\n",
              "      <th>std</th>\n",
              "      <td>2.003458</td>\n",
              "      <td>1.687476</td>\n",
              "      <td>3.318106</td>\n",
              "      <td>3.796042</td>\n",
              "      <td>2.303026</td>\n",
              "    </tr>\n",
              "    <tr>\n",
              "      <th>min</th>\n",
              "      <td>-2.501984</td>\n",
              "      <td>-1.111221</td>\n",
              "      <td>-5.608640</td>\n",
              "      <td>-17.162412</td>\n",
              "      <td>-10.217421</td>\n",
              "    </tr>\n",
              "    <tr>\n",
              "      <th>25%</th>\n",
              "      <td>2.927256</td>\n",
              "      <td>2.954082</td>\n",
              "      <td>3.421758</td>\n",
              "      <td>2.769071</td>\n",
              "      <td>-3.487675</td>\n",
              "    </tr>\n",
              "    <tr>\n",
              "      <th>50%</th>\n",
              "      <td>3.940197</td>\n",
              "      <td>3.948568</td>\n",
              "      <td>4.057270</td>\n",
              "      <td>3.777184</td>\n",
              "      <td>-2.844361</td>\n",
              "    </tr>\n",
              "    <tr>\n",
              "      <th>75%</th>\n",
              "      <td>4.492814</td>\n",
              "      <td>4.498173</td>\n",
              "      <td>4.928962</td>\n",
              "      <td>4.498967</td>\n",
              "      <td>-1.876631</td>\n",
              "    </tr>\n",
              "    <tr>\n",
              "      <th>max</th>\n",
              "      <td>8.243753</td>\n",
              "      <td>6.170683</td>\n",
              "      <td>18.833778</td>\n",
              "      <td>7.276229</td>\n",
              "      <td>3.405651</td>\n",
              "    </tr>\n",
              "  </tbody>\n",
              "</table>\n",
              "</div>\n",
              "      <button class=\"colab-df-convert\" onclick=\"convertToInteractive('df-09fdb043-af69-43da-a979-f20faed61a71')\"\n",
              "              title=\"Convert this dataframe to an interactive table.\"\n",
              "              style=\"display:none;\">\n",
              "        \n",
              "  <svg xmlns=\"http://www.w3.org/2000/svg\" height=\"24px\"viewBox=\"0 0 24 24\"\n",
              "       width=\"24px\">\n",
              "    <path d=\"M0 0h24v24H0V0z\" fill=\"none\"/>\n",
              "    <path d=\"M18.56 5.44l.94 2.06.94-2.06 2.06-.94-2.06-.94-.94-2.06-.94 2.06-2.06.94zm-11 1L8.5 8.5l.94-2.06 2.06-.94-2.06-.94L8.5 2.5l-.94 2.06-2.06.94zm10 10l.94 2.06.94-2.06 2.06-.94-2.06-.94-.94-2.06-.94 2.06-2.06.94z\"/><path d=\"M17.41 7.96l-1.37-1.37c-.4-.4-.92-.59-1.43-.59-.52 0-1.04.2-1.43.59L10.3 9.45l-7.72 7.72c-.78.78-.78 2.05 0 2.83L4 21.41c.39.39.9.59 1.41.59.51 0 1.02-.2 1.41-.59l7.78-7.78 2.81-2.81c.8-.78.8-2.07 0-2.86zM5.41 20L4 18.59l7.72-7.72 1.47 1.35L5.41 20z\"/>\n",
              "  </svg>\n",
              "      </button>\n",
              "      \n",
              "  <style>\n",
              "    .colab-df-container {\n",
              "      display:flex;\n",
              "      flex-wrap:wrap;\n",
              "      gap: 12px;\n",
              "    }\n",
              "\n",
              "    .colab-df-convert {\n",
              "      background-color: #E8F0FE;\n",
              "      border: none;\n",
              "      border-radius: 50%;\n",
              "      cursor: pointer;\n",
              "      display: none;\n",
              "      fill: #1967D2;\n",
              "      height: 32px;\n",
              "      padding: 0 0 0 0;\n",
              "      width: 32px;\n",
              "    }\n",
              "\n",
              "    .colab-df-convert:hover {\n",
              "      background-color: #E2EBFA;\n",
              "      box-shadow: 0px 1px 2px rgba(60, 64, 67, 0.3), 0px 1px 3px 1px rgba(60, 64, 67, 0.15);\n",
              "      fill: #174EA6;\n",
              "    }\n",
              "\n",
              "    [theme=dark] .colab-df-convert {\n",
              "      background-color: #3B4455;\n",
              "      fill: #D2E3FC;\n",
              "    }\n",
              "\n",
              "    [theme=dark] .colab-df-convert:hover {\n",
              "      background-color: #434B5C;\n",
              "      box-shadow: 0px 1px 3px 1px rgba(0, 0, 0, 0.15);\n",
              "      filter: drop-shadow(0px 1px 2px rgba(0, 0, 0, 0.3));\n",
              "      fill: #FFFFFF;\n",
              "    }\n",
              "  </style>\n",
              "\n",
              "      <script>\n",
              "        const buttonEl =\n",
              "          document.querySelector('#df-09fdb043-af69-43da-a979-f20faed61a71 button.colab-df-convert');\n",
              "        buttonEl.style.display =\n",
              "          google.colab.kernel.accessAllowed ? 'block' : 'none';\n",
              "\n",
              "        async function convertToInteractive(key) {\n",
              "          const element = document.querySelector('#df-09fdb043-af69-43da-a979-f20faed61a71');\n",
              "          const dataTable =\n",
              "            await google.colab.kernel.invokeFunction('convertToInteractive',\n",
              "                                                     [key], {});\n",
              "          if (!dataTable) return;\n",
              "\n",
              "          const docLinkHtml = 'Like what you see? Visit the ' +\n",
              "            '<a target=\"_blank\" href=https://colab.research.google.com/notebooks/data_table.ipynb>data table notebook</a>'\n",
              "            + ' to learn more about interactive tables.';\n",
              "          element.innerHTML = '';\n",
              "          dataTable['output_type'] = 'display_data';\n",
              "          await google.colab.output.renderOutput(dataTable, element);\n",
              "          const docLink = document.createElement('div');\n",
              "          docLink.innerHTML = docLinkHtml;\n",
              "          element.appendChild(docLink);\n",
              "        }\n",
              "      </script>\n",
              "    </div>\n",
              "  </div>\n",
              "  "
            ],
            "text/plain": [
              "       PDRB - HK (2016)  PDRB - HK (2017)  ...  PDRB - HK (2019)  PDRB - HK (2020)\n",
              "count         35.000000         35.000000  ...         35.000000         35.000000\n",
              "mean           3.618728          3.555254  ...          3.128965         -2.711863\n",
              "std            2.003458          1.687476  ...          3.796042          2.303026\n",
              "min           -2.501984         -1.111221  ...        -17.162412        -10.217421\n",
              "25%            2.927256          2.954082  ...          2.769071         -3.487675\n",
              "50%            3.940197          3.948568  ...          3.777184         -2.844361\n",
              "75%            4.492814          4.498173  ...          4.498967         -1.876631\n",
              "max            8.243753          6.170683  ...          7.276229          3.405651\n",
              "\n",
              "[8 rows x 5 columns]"
            ]
          },
          "metadata": {},
          "execution_count": 6
        }
      ]
    },
    {
      "cell_type": "code",
      "source": [
        "#Memvisualisasikan tingkat perubahan PDRB harga konstan untuk semua provinsi pada tahun 2020 dengan bar chart\n",
        "plt.figure(figsize=(10,12))\n",
        "plt.barh(pdrb_hk_pct_change.index,pdrb_hk_pct_change['PDRB - HK (2020)'], color=np.where(pdrb_hk_pct_change['PDRB - HK (2020)'] < 0, 'crimson', 'deepskyblue'))\n",
        "plt.title('% Perubahan PDB/PDRB - HK, 2019-2020')\n",
        "plt.xlabel('YoY(%)')\n",
        "plt.show()"
      ],
      "metadata": {
        "colab": {
          "base_uri": "https://localhost:8080/",
          "height": 730
        },
        "id": "mVC8nuyMxHzE",
        "outputId": "629476a1-e3c0-41b6-b552-094537f3707c"
      },
      "execution_count": null,
      "outputs": [
        {
          "output_type": "display_data",
          "data": {
            "image/png": "[encoded data removed]",
            "text/plain": [
              "<Figure size 720x864 with 1 Axes>"
            ]
          },
          "metadata": {
            "needs_background": "light"
          }
        }
      ]
    },
    {
      "cell_type": "code",
      "source": [
        "#Membuat dataframe baru untuk data PDRB harga konstan namun dengan format yang berbeda (bentuk tabel ditranspose)\n",
        "pdrb_konstan = pd.DataFrame()\n",
        "pdrb_konstan['Tahun'] = pdrb_hk.columns\n",
        "for i,j in enumerate(pdrb_hk_pct_change[:5].index):\n",
        "  pdrb_konstan[j] = pdrb_hk.loc[j].values\n",
        "\n",
        "#Memvisualisasikan tren pertumbuhan PDRB untuk 5 provinsi dengan tingkat pertumbuhan PDRB terbesar di tahun 2020 dengan line chart\n",
        "plt.figure(figsize=(10,10))\n",
        "for i in range(1,6):\n",
        "  plt.plot('Tahun',pdrb_konstan.columns[i],data = pdrb_konstan, marker='o')\n",
        "plt.legend(labels = pdrb_konstan.columns[1:],loc='best')\n",
        "plt.xticks(np.arange(6),['2015','2016','2017','2018','2019','2020'])\n",
        "plt.xlabel('Tahun')\n",
        "plt.ylabel('PDRB')\n",
        "plt.title('Tren Pertumbuhan PDRB')"
      ],
      "metadata": {
        "id": "09hnByubFan7",
        "colab": {
          "base_uri": "https://localhost:8080/",
          "height": 639
        },
        "outputId": "5587e092-0db3-49a4-9363-10b20b804527"
      },
      "execution_count": null,
      "outputs": [
        {
          "output_type": "execute_result",
          "data": {
            "text/plain": [
              "Text(0.5, 1.0, 'Tren Pertumbuhan PDRB')"
            ]
          },
          "metadata": {},
          "execution_count": 8
        },
        {
          "output_type": "display_data",
          "data": {
            "image/png": "[encoded data removed]",
            "text/plain": [
              "<Figure size 720x720 with 1 Axes>"
            ]
          },
          "metadata": {
            "needs_background": "light"
          }
        }
      ]
    },
    {
      "cell_type": "markdown",
      "source": [
        "### PPP (Pengeluaran per Kapita Disesuaikan)"
      ],
      "metadata": {
        "id": "0tkECbWOms9N"
      }
    },
    {
      "cell_type": "code",
      "source": [
        "ppp_prov_change = (ppp_prov.pct_change(axis=1)*100).dropna(axis=1) #Dataframe baru yang berisi data tingkat perubahan Pendapatan per Kapita (PPP) YoY (dalam persen) \n",
        "ppp_prov_change.sort_values(by='PPP (2020)',ascending=False,inplace=True)  #Mengurutkan data berdasarkan persentase pertumbuhan tahun 2020, dari besar ke kecil\n",
        "ppp_prov_change.describe() #Menunjukkan statistik deskriptif untuk data tingkat perubahan PPP YoY "
      ],
      "metadata": {
        "id": "FDR9QF57syTi",
        "colab": {
          "base_uri": "https://localhost:8080/",
          "height": 300
        },
        "outputId": "623d8800-d761-498d-dae4-aadf005875b6"
      },
      "execution_count": null,
      "outputs": [
        {
          "output_type": "execute_result",
          "data": {
            "text/html": [
              "\n",
              "  <div id=\"df-03c7cf40-6e78-4aa7-bbd6-396cc5bc7afe\">\n",
              "    <div class=\"colab-df-container\">\n",
              "      <div>\n",
              "<style scoped>\n",
              "    .dataframe tbody tr th:only-of-type {\n",
              "        vertical-align: middle;\n",
              "    }\n",
              "\n",
              "    .dataframe tbody tr th {\n",
              "        vertical-align: top;\n",
              "    }\n",
              "\n",
              "    .dataframe thead th {\n",
              "        text-align: right;\n",
              "    }\n",
              "</style>\n",
              "<table border=\"1\" class=\"dataframe\">\n",
              "  <thead>\n",
              "    <tr style=\"text-align: right;\">\n",
              "      <th></th>\n",
              "      <th>PPP (2016)</th>\n",
              "      <th>PPP (2017)</th>\n",
              "      <th>PPP (2018)</th>\n",
              "      <th>PPP (2019)</th>\n",
              "      <th>PPP (2020)</th>\n",
              "    </tr>\n",
              "  </thead>\n",
              "  <tbody>\n",
              "    <tr>\n",
              "      <th>count</th>\n",
              "      <td>35.000000</td>\n",
              "      <td>35.000000</td>\n",
              "      <td>35.000000</td>\n",
              "      <td>35.000000</td>\n",
              "      <td>35.000000</td>\n",
              "    </tr>\n",
              "    <tr>\n",
              "      <th>mean</th>\n",
              "      <td>2.566891</td>\n",
              "      <td>2.562298</td>\n",
              "      <td>3.418113</td>\n",
              "      <td>2.761395</td>\n",
              "      <td>-2.143818</td>\n",
              "    </tr>\n",
              "    <tr>\n",
              "      <th>std</th>\n",
              "      <td>1.138053</td>\n",
              "      <td>0.919209</td>\n",
              "      <td>0.865829</td>\n",
              "      <td>0.794010</td>\n",
              "      <td>1.443473</td>\n",
              "    </tr>\n",
              "    <tr>\n",
              "      <th>min</th>\n",
              "      <td>0.833434</td>\n",
              "      <td>0.867790</td>\n",
              "      <td>1.847372</td>\n",
              "      <td>1.222597</td>\n",
              "      <td>-6.282779</td>\n",
              "    </tr>\n",
              "    <tr>\n",
              "      <th>25%</th>\n",
              "      <td>1.607444</td>\n",
              "      <td>2.090683</td>\n",
              "      <td>2.799401</td>\n",
              "      <td>2.235006</td>\n",
              "      <td>-2.674603</td>\n",
              "    </tr>\n",
              "    <tr>\n",
              "      <th>50%</th>\n",
              "      <td>2.354847</td>\n",
              "      <td>2.491281</td>\n",
              "      <td>3.415155</td>\n",
              "      <td>2.616703</td>\n",
              "      <td>-1.776580</td>\n",
              "    </tr>\n",
              "    <tr>\n",
              "      <th>75%</th>\n",
              "      <td>3.405873</td>\n",
              "      <td>3.039629</td>\n",
              "      <td>4.051722</td>\n",
              "      <td>3.283674</td>\n",
              "      <td>-1.224408</td>\n",
              "    </tr>\n",
              "    <tr>\n",
              "      <th>max</th>\n",
              "      <td>4.891740</td>\n",
              "      <td>5.409070</td>\n",
              "      <td>4.972650</td>\n",
              "      <td>4.539517</td>\n",
              "      <td>-0.278605</td>\n",
              "    </tr>\n",
              "  </tbody>\n",
              "</table>\n",
              "</div>\n",
              "      <button class=\"colab-df-convert\" onclick=\"convertToInteractive('df-03c7cf40-6e78-4aa7-bbd6-396cc5bc7afe')\"\n",
              "              title=\"Convert this dataframe to an interactive table.\"\n",
              "              style=\"display:none;\">\n",
              "        \n",
              "  <svg xmlns=\"http://www.w3.org/2000/svg\" height=\"24px\"viewBox=\"0 0 24 24\"\n",
              "       width=\"24px\">\n",
              "    <path d=\"M0 0h24v24H0V0z\" fill=\"none\"/>\n",
              "    <path d=\"M18.56 5.44l.94 2.06.94-2.06 2.06-.94-2.06-.94-.94-2.06-.94 2.06-2.06.94zm-11 1L8.5 8.5l.94-2.06 2.06-.94-2.06-.94L8.5 2.5l-.94 2.06-2.06.94zm10 10l.94 2.06.94-2.06 2.06-.94-2.06-.94-.94-2.06-.94 2.06-2.06.94z\"/><path d=\"M17.41 7.96l-1.37-1.37c-.4-.4-.92-.59-1.43-.59-.52 0-1.04.2-1.43.59L10.3 9.45l-7.72 7.72c-.78.78-.78 2.05 0 2.83L4 21.41c.39.39.9.59 1.41.59.51 0 1.02-.2 1.41-.59l7.78-7.78 2.81-2.81c.8-.78.8-2.07 0-2.86zM5.41 20L4 18.59l7.72-7.72 1.47 1.35L5.41 20z\"/>\n",
              "  </svg>\n",
              "      </button>\n",
              "      \n",
              "  <style>\n",
              "    .colab-df-container {\n",
              "      display:flex;\n",
              "      flex-wrap:wrap;\n",
              "      gap: 12px;\n",
              "    }\n",
              "\n",
              "    .colab-df-convert {\n",
              "      background-color: #E8F0FE;\n",
              "      border: none;\n",
              "      border-radius: 50%;\n",
              "      cursor: pointer;\n",
              "      display: none;\n",
              "      fill: #1967D2;\n",
              "      height: 32px;\n",
              "      padding: 0 0 0 0;\n",
              "      width: 32px;\n",
              "    }\n",
              "\n",
              "    .colab-df-convert:hover {\n",
              "      background-color: #E2EBFA;\n",
              "      box-shadow: 0px 1px 2px rgba(60, 64, 67, 0.3), 0px 1px 3px 1px rgba(60, 64, 67, 0.15);\n",
              "      fill: #174EA6;\n",
              "    }\n",
              "\n",
              "    [theme=dark] .colab-df-convert {\n",
              "      background-color: #3B4455;\n",
              "      fill: #D2E3FC;\n",
              "    }\n",
              "\n",
              "    [theme=dark] .colab-df-convert:hover {\n",
              "      background-color: #434B5C;\n",
              "      box-shadow: 0px 1px 3px 1px rgba(0, 0, 0, 0.15);\n",
              "      filter: drop-shadow(0px 1px 2px rgba(0, 0, 0, 0.3));\n",
              "      fill: #FFFFFF;\n",
              "    }\n",
              "  </style>\n",
              "\n",
              "      <script>\n",
              "        const buttonEl =\n",
              "          document.querySelector('#df-03c7cf40-6e78-4aa7-bbd6-396cc5bc7afe button.colab-df-convert');\n",
              "        buttonEl.style.display =\n",
              "          google.colab.kernel.accessAllowed ? 'block' : 'none';\n",
              "\n",
              "        async function convertToInteractive(key) {\n",
              "          const element = document.querySelector('#df-03c7cf40-6e78-4aa7-bbd6-396cc5bc7afe');\n",
              "          const dataTable =\n",
              "            await google.colab.kernel.invokeFunction('convertToInteractive',\n",
              "                                                     [key], {});\n",
              "          if (!dataTable) return;\n",
              "\n",
              "          const docLinkHtml = 'Like what you see? Visit the ' +\n",
              "            '<a target=\"_blank\" href=https://colab.research.google.com/notebooks/data_table.ipynb>data table notebook</a>'\n",
              "            + ' to learn more about interactive tables.';\n",
              "          element.innerHTML = '';\n",
              "          dataTable['output_type'] = 'display_data';\n",
              "          await google.colab.output.renderOutput(dataTable, element);\n",
              "          const docLink = document.createElement('div');\n",
              "          docLink.innerHTML = docLinkHtml;\n",
              "          element.appendChild(docLink);\n",
              "        }\n",
              "      </script>\n",
              "    </div>\n",
              "  </div>\n",
              "  "
            ],
            "text/plain": [
              "       PPP (2016)  PPP (2017)  PPP (2018)  PPP (2019)  PPP (2020)\n",
              "count   35.000000   35.000000   35.000000   35.000000   35.000000\n",
              "mean     2.566891    2.562298    3.418113    2.761395   -2.143818\n",
              "std      1.138053    0.919209    0.865829    0.794010    1.443473\n",
              "min      0.833434    0.867790    1.847372    1.222597   -6.282779\n",
              "25%      1.607444    2.090683    2.799401    2.235006   -2.674603\n",
              "50%      2.354847    2.491281    3.415155    2.616703   -1.776580\n",
              "75%      3.405873    3.039629    4.051722    3.283674   -1.224408\n",
              "max      4.891740    5.409070    4.972650    4.539517   -0.278605"
            ]
          },
          "metadata": {},
          "execution_count": 9
        }
      ]
    },
    {
      "cell_type": "code",
      "source": [
        "#memvisualisasikan tingkat perubahan PPP untuk semua provinsi pada tahun 2020\n",
        "plt.figure(figsize=(10,12))\n",
        "plt.barh(ppp_prov_change.index,ppp_prov_change['PPP (2020)'], color='darkcyan')\n",
        "plt.title('% Perubahan PPP 2020')\n",
        "plt.xlabel('YoY (%)')\n",
        "plt.show()"
      ],
      "metadata": {
        "colab": {
          "base_uri": "https://localhost:8080/",
          "height": 730
        },
        "id": "bPDFBa5d391f",
        "outputId": "ad556bd0-2e00-4018-a66c-6e914182e50d"
      },
      "execution_count": null,
      "outputs": [
        {
          "output_type": "display_data",
          "data": {
            "image/png": "[encoded data removed]",
            "text/plain": [
              "<Figure size 720x864 with 1 Axes>"
            ]
          },
          "metadata": {
            "needs_background": "light"
          }
        }
      ]
    },
    {
      "cell_type": "markdown",
      "source": [
        "## Q2"
      ],
      "metadata": {
        "id": "hs35RRUTp1ex"
      }
    },
    {
      "cell_type": "markdown",
      "source": [
        "### Function"
      ],
      "metadata": {
        "id": "0NC4zQ0ym6LK"
      }
    },
    {
      "cell_type": "code",
      "source": [
        "#Function yang digunakan untuk menampilkan Year-over-Year (YoY) rata-rata Umur Harapan Hidup (UHH) dari 6 Pulau di Indonesia. \n",
        "#Argumen yang diterima merupakan nama pulau (salah satu dari key dictionary pulau). \n",
        "\n",
        "def Q2_UHH(nama):\n",
        "  #Pertama-tama dilakukan slicing dataframe sesuai dengan indent provinsi yang sesuai dengan argumen pulau dan memanfaatkan pct_change untuk memperoleh YoY tahunan. \n",
        "  i = pulau[nama]\n",
        "  uhh = uhh_prov_change.iloc[pix[i]:pix[i+1],:]\n",
        "  uhh.loc['Rata-rata'] = uhh.mean()\n",
        "  uhh_rata2 = uhh.iloc[-1,:].to_frame(name='YoY (UHH)')\n",
        "\n",
        "  #Setelah itu memvisualisasikan bar chart dengan matplotlib.\n",
        "  fig, ax1 = plt.subplots(figsize=(6, 6))\n",
        "  ax1.bar(range(2016,2021), uhh_rata2['YoY (UHH)'], color=np.where(uhh_rata2['YoY (UHH)'] < 0, 'crimson', 'deepskyblue'))\n",
        "  plt.title(f'UHH {nama} - YoY 2016-2020', fontsize = 14)\n",
        "  plt.grid()\n",
        "  ax1.set_ylabel('YoY (%)', fontsize = 14)"
      ],
      "metadata": {
        "id": "9R0Dl4jkm7eL"
      },
      "execution_count": null,
      "outputs": []
    },
    {
      "cell_type": "markdown",
      "source": [
        "### YoY UHH Tahunan"
      ],
      "metadata": {
        "id": "tu7Jux2qm8fO"
      }
    },
    {
      "cell_type": "code",
      "source": [
        "uhh_prov_change = (uhh_prov.pct_change(axis=1)*100).dropna(axis=1) #Dataframe baru yang berisi data tingkat perubahan UHH YoY (dalam persen) \n",
        "uhh_prov_change.sort_values(by='Umur Harapan Hidup Saat Lahir (UHH) (2020)',ascending=True,inplace=True) #Mengurutkan data berdasarkan persentase pertumbuhan tahun 2020, dari kecil ke besar\n",
        "uhh_prov_change.describe() #Menunjukkan statistik deskriptif untuk data tingkat perubahan UHH YoY"
      ],
      "metadata": {
        "id": "mqnQrHlXp3Yk",
        "colab": {
          "base_uri": "https://localhost:8080/",
          "height": 379
        },
        "outputId": "1e099061-8c7b-4a48-c426-361a9e567d76"
      },
      "execution_count": null,
      "outputs": [
        {
          "output_type": "execute_result",
          "data": {
            "text/html": [
              "\n",
              "  <div id=\"df-6cc7d6b7-6aff-4207-9b50-94bc1dcc862b\">\n",
              "    <div class=\"colab-df-container\">\n",
              "      <div>\n",
              "<style scoped>\n",
              "    .dataframe tbody tr th:only-of-type {\n",
              "        vertical-align: middle;\n",
              "    }\n",
              "\n",
              "    .dataframe tbody tr th {\n",
              "        vertical-align: top;\n",
              "    }\n",
              "\n",
              "    .dataframe thead th {\n",
              "        text-align: right;\n",
              "    }\n",
              "</style>\n",
              "<table border=\"1\" class=\"dataframe\">\n",
              "  <thead>\n",
              "    <tr style=\"text-align: right;\">\n",
              "      <th></th>\n",
              "      <th>Umur Harapan Hidup Saat Lahir (UHH) (2016)</th>\n",
              "      <th>Umur Harapan Hidup Saat Lahir (UHH) (2017)</th>\n",
              "      <th>Umur Harapan Hidup Saat Lahir (UHH) (2018)</th>\n",
              "      <th>Umur Harapan Hidup Saat Lahir (UHH) (2019)</th>\n",
              "      <th>Umur Harapan Hidup Saat Lahir (UHH) (2020)</th>\n",
              "    </tr>\n",
              "  </thead>\n",
              "  <tbody>\n",
              "    <tr>\n",
              "      <th>count</th>\n",
              "      <td>35.000000</td>\n",
              "      <td>35.000000</td>\n",
              "      <td>35.000000</td>\n",
              "      <td>35.000000</td>\n",
              "      <td>35.000000</td>\n",
              "    </tr>\n",
              "    <tr>\n",
              "      <th>mean</th>\n",
              "      <td>0.086302</td>\n",
              "      <td>0.053021</td>\n",
              "      <td>0.300978</td>\n",
              "      <td>0.384465</td>\n",
              "      <td>0.215655</td>\n",
              "    </tr>\n",
              "    <tr>\n",
              "      <th>std</th>\n",
              "      <td>0.070812</td>\n",
              "      <td>0.041789</td>\n",
              "      <td>0.125646</td>\n",
              "      <td>0.174644</td>\n",
              "      <td>0.107187</td>\n",
              "    </tr>\n",
              "    <tr>\n",
              "      <th>min</th>\n",
              "      <td>0.014388</td>\n",
              "      <td>0.014192</td>\n",
              "      <td>0.041396</td>\n",
              "      <td>0.055172</td>\n",
              "      <td>0.068927</td>\n",
              "    </tr>\n",
              "    <tr>\n",
              "      <th>25%</th>\n",
              "      <td>0.042598</td>\n",
              "      <td>0.028629</td>\n",
              "      <td>0.223070</td>\n",
              "      <td>0.274342</td>\n",
              "      <td>0.168233</td>\n",
              "    </tr>\n",
              "    <tr>\n",
              "      <th>50%</th>\n",
              "      <td>0.058574</td>\n",
              "      <td>0.043190</td>\n",
              "      <td>0.328806</td>\n",
              "      <td>0.381064</td>\n",
              "      <td>0.198582</td>\n",
              "    </tr>\n",
              "    <tr>\n",
              "      <th>75%</th>\n",
              "      <td>0.102874</td>\n",
              "      <td>0.070365</td>\n",
              "      <td>0.353771</td>\n",
              "      <td>0.497492</td>\n",
              "      <td>0.235094</td>\n",
              "    </tr>\n",
              "    <tr>\n",
              "      <th>max</th>\n",
              "      <td>0.374169</td>\n",
              "      <td>0.225670</td>\n",
              "      <td>0.683304</td>\n",
              "      <td>0.711638</td>\n",
              "      <td>0.674190</td>\n",
              "    </tr>\n",
              "  </tbody>\n",
              "</table>\n",
              "</div>\n",
              "      <button class=\"colab-df-convert\" onclick=\"convertToInteractive('df-6cc7d6b7-6aff-4207-9b50-94bc1dcc862b')\"\n",
              "              title=\"Convert this dataframe to an interactive table.\"\n",
              "              style=\"display:none;\">\n",
              "        \n",
              "  <svg xmlns=\"http://www.w3.org/2000/svg\" height=\"24px\"viewBox=\"0 0 24 24\"\n",
              "       width=\"24px\">\n",
              "    <path d=\"M0 0h24v24H0V0z\" fill=\"none\"/>\n",
              "    <path d=\"M18.56 5.44l.94 2.06.94-2.06 2.06-.94-2.06-.94-.94-2.06-.94 2.06-2.06.94zm-11 1L8.5 8.5l.94-2.06 2.06-.94-2.06-.94L8.5 2.5l-.94 2.06-2.06.94zm10 10l.94 2.06.94-2.06 2.06-.94-2.06-.94-.94-2.06-.94 2.06-2.06.94z\"/><path d=\"M17.41 7.96l-1.37-1.37c-.4-.4-.92-.59-1.43-.59-.52 0-1.04.2-1.43.59L10.3 9.45l-7.72 7.72c-.78.78-.78 2.05 0 2.83L4 21.41c.39.39.9.59 1.41.59.51 0 1.02-.2 1.41-.59l7.78-7.78 2.81-2.81c.8-.78.8-2.07 0-2.86zM5.41 20L4 18.59l7.72-7.72 1.47 1.35L5.41 20z\"/>\n",
              "  </svg>\n",
              "      </button>\n",
              "      \n",
              "  <style>\n",
              "    .colab-df-container {\n",
              "      display:flex;\n",
              "      flex-wrap:wrap;\n",
              "      gap: 12px;\n",
              "    }\n",
              "\n",
              "    .colab-df-convert {\n",
              "      background-color: #E8F0FE;\n",
              "      border: none;\n",
              "      border-radius: 50%;\n",
              "      cursor: pointer;\n",
              "      display: none;\n",
              "      fill: #1967D2;\n",
              "      height: 32px;\n",
              "      padding: 0 0 0 0;\n",
              "      width: 32px;\n",
              "    }\n",
              "\n",
              "    .colab-df-convert:hover {\n",
              "      background-color: #E2EBFA;\n",
              "      box-shadow: 0px 1px 2px rgba(60, 64, 67, 0.3), 0px 1px 3px 1px rgba(60, 64, 67, 0.15);\n",
              "      fill: #174EA6;\n",
              "    }\n",
              "\n",
              "    [theme=dark] .colab-df-convert {\n",
              "      background-color: #3B4455;\n",
              "      fill: #D2E3FC;\n",
              "    }\n",
              "\n",
              "    [theme=dark] .colab-df-convert:hover {\n",
              "      background-color: #434B5C;\n",
              "      box-shadow: 0px 1px 3px 1px rgba(0, 0, 0, 0.15);\n",
              "      filter: drop-shadow(0px 1px 2px rgba(0, 0, 0, 0.3));\n",
              "      fill: #FFFFFF;\n",
              "    }\n",
              "  </style>\n",
              "\n",
              "      <script>\n",
              "        const buttonEl =\n",
              "          document.querySelector('#df-6cc7d6b7-6aff-4207-9b50-94bc1dcc862b button.colab-df-convert');\n",
              "        buttonEl.style.display =\n",
              "          google.colab.kernel.accessAllowed ? 'block' : 'none';\n",
              "\n",
              "        async function convertToInteractive(key) {\n",
              "          const element = document.querySelector('#df-6cc7d6b7-6aff-4207-9b50-94bc1dcc862b');\n",
              "          const dataTable =\n",
              "            await google.colab.kernel.invokeFunction('convertToInteractive',\n",
              "                                                     [key], {});\n",
              "          if (!dataTable) return;\n",
              "\n",
              "          const docLinkHtml = 'Like what you see? Visit the ' +\n",
              "            '<a target=\"_blank\" href=https://colab.research.google.com/notebooks/data_table.ipynb>data table notebook</a>'\n",
              "            + ' to learn more about interactive tables.';\n",
              "          element.innerHTML = '';\n",
              "          dataTable['output_type'] = 'display_data';\n",
              "          await google.colab.output.renderOutput(dataTable, element);\n",
              "          const docLink = document.createElement('div');\n",
              "          docLink.innerHTML = docLinkHtml;\n",
              "          element.appendChild(docLink);\n",
              "        }\n",
              "      </script>\n",
              "    </div>\n",
              "  </div>\n",
              "  "
            ],
            "text/plain": [
              "       Umur Harapan Hidup Saat Lahir (UHH) (2016)  ...  Umur Harapan Hidup Saat Lahir (UHH) (2020)\n",
              "count                                   35.000000  ...                                   35.000000\n",
              "mean                                     0.086302  ...                                    0.215655\n",
              "std                                      0.070812  ...                                    0.107187\n",
              "min                                      0.014388  ...                                    0.068927\n",
              "25%                                      0.042598  ...                                    0.168233\n",
              "50%                                      0.058574  ...                                    0.198582\n",
              "75%                                      0.102874  ...                                    0.235094\n",
              "max                                      0.374169  ...                                    0.674190\n",
              "\n",
              "[8 rows x 5 columns]"
            ]
          },
          "metadata": {},
          "execution_count": 12
        }
      ]
    },
    {
      "cell_type": "code",
      "source": [
        "uhh_prov_change.iloc[:,-2:].head() #Melihat 5 provinsi apa yang memiliki persentase perubahan 2019-2020 yang paling rendah"
      ],
      "metadata": {
        "colab": {
          "base_uri": "https://localhost:8080/",
          "height": 281
        },
        "id": "SdtXjfnUCcHC",
        "outputId": "a72c8cf4-7e68-47b7-af5c-2dfe4c8455a9"
      },
      "execution_count": null,
      "outputs": [
        {
          "output_type": "execute_result",
          "data": {
            "text/html": [
              "\n",
              "  <div id=\"df-bb728408-4a66-40a2-b684-cae7a981744a\">\n",
              "    <div class=\"colab-df-container\">\n",
              "      <div>\n",
              "<style scoped>\n",
              "    .dataframe tbody tr th:only-of-type {\n",
              "        vertical-align: middle;\n",
              "    }\n",
              "\n",
              "    .dataframe tbody tr th {\n",
              "        vertical-align: top;\n",
              "    }\n",
              "\n",
              "    .dataframe thead th {\n",
              "        text-align: right;\n",
              "    }\n",
              "</style>\n",
              "<table border=\"1\" class=\"dataframe\">\n",
              "  <thead>\n",
              "    <tr style=\"text-align: right;\">\n",
              "      <th></th>\n",
              "      <th>Umur Harapan Hidup Saat Lahir (UHH) (2019)</th>\n",
              "      <th>Umur Harapan Hidup Saat Lahir (UHH) (2020)</th>\n",
              "    </tr>\n",
              "    <tr>\n",
              "      <th>Provinsi</th>\n",
              "      <th></th>\n",
              "      <th></th>\n",
              "    </tr>\n",
              "  </thead>\n",
              "  <tbody>\n",
              "    <tr>\n",
              "      <th>KALIMANTAN UTARA</th>\n",
              "      <td>0.055172</td>\n",
              "      <td>0.068927</td>\n",
              "    </tr>\n",
              "    <tr>\n",
              "      <th>KALIMANTAN TENGAH</th>\n",
              "      <td>0.071798</td>\n",
              "      <td>0.071746</td>\n",
              "    </tr>\n",
              "    <tr>\n",
              "      <th>ACEH</th>\n",
              "      <td>0.330270</td>\n",
              "      <td>0.085874</td>\n",
              "    </tr>\n",
              "    <tr>\n",
              "      <th>D I YOGYAKARTA</th>\n",
              "      <td>0.133654</td>\n",
              "      <td>0.093433</td>\n",
              "    </tr>\n",
              "    <tr>\n",
              "      <th>JAMBI</th>\n",
              "      <td>0.239808</td>\n",
              "      <td>0.140726</td>\n",
              "    </tr>\n",
              "  </tbody>\n",
              "</table>\n",
              "</div>\n",
              "      <button class=\"colab-df-convert\" onclick=\"convertToInteractive('df-bb728408-4a66-40a2-b684-cae7a981744a')\"\n",
              "              title=\"Convert this dataframe to an interactive table.\"\n",
              "              style=\"display:none;\">\n",
              "        \n",
              "  <svg xmlns=\"http://www.w3.org/2000/svg\" height=\"24px\"viewBox=\"0 0 24 24\"\n",
              "       width=\"24px\">\n",
              "    <path d=\"M0 0h24v24H0V0z\" fill=\"none\"/>\n",
              "    <path d=\"M18.56 5.44l.94 2.06.94-2.06 2.06-.94-2.06-.94-.94-2.06-.94 2.06-2.06.94zm-11 1L8.5 8.5l.94-2.06 2.06-.94-2.06-.94L8.5 2.5l-.94 2.06-2.06.94zm10 10l.94 2.06.94-2.06 2.06-.94-2.06-.94-.94-2.06-.94 2.06-2.06.94z\"/><path d=\"M17.41 7.96l-1.37-1.37c-.4-.4-.92-.59-1.43-.59-.52 0-1.04.2-1.43.59L10.3 9.45l-7.72 7.72c-.78.78-.78 2.05 0 2.83L4 21.41c.39.39.9.59 1.41.59.51 0 1.02-.2 1.41-.59l7.78-7.78 2.81-2.81c.8-.78.8-2.07 0-2.86zM5.41 20L4 18.59l7.72-7.72 1.47 1.35L5.41 20z\"/>\n",
              "  </svg>\n",
              "      </button>\n",
              "      \n",
              "  <style>\n",
              "    .colab-df-container {\n",
              "      display:flex;\n",
              "      flex-wrap:wrap;\n",
              "      gap: 12px;\n",
              "    }\n",
              "\n",
              "    .colab-df-convert {\n",
              "      background-color: #E8F0FE;\n",
              "      border: none;\n",
              "      border-radius: 50%;\n",
              "      cursor: pointer;\n",
              "      display: none;\n",
              "      fill: #1967D2;\n",
              "      height: 32px;\n",
              "      padding: 0 0 0 0;\n",
              "      width: 32px;\n",
              "    }\n",
              "\n",
              "    .colab-df-convert:hover {\n",
              "      background-color: #E2EBFA;\n",
              "      box-shadow: 0px 1px 2px rgba(60, 64, 67, 0.3), 0px 1px 3px 1px rgba(60, 64, 67, 0.15);\n",
              "      fill: #174EA6;\n",
              "    }\n",
              "\n",
              "    [theme=dark] .colab-df-convert {\n",
              "      background-color: #3B4455;\n",
              "      fill: #D2E3FC;\n",
              "    }\n",
              "\n",
              "    [theme=dark] .colab-df-convert:hover {\n",
              "      background-color: #434B5C;\n",
              "      box-shadow: 0px 1px 3px 1px rgba(0, 0, 0, 0.15);\n",
              "      filter: drop-shadow(0px 1px 2px rgba(0, 0, 0, 0.3));\n",
              "      fill: #FFFFFF;\n",
              "    }\n",
              "  </style>\n",
              "\n",
              "      <script>\n",
              "        const buttonEl =\n",
              "          document.querySelector('#df-bb728408-4a66-40a2-b684-cae7a981744a button.colab-df-convert');\n",
              "        buttonEl.style.display =\n",
              "          google.colab.kernel.accessAllowed ? 'block' : 'none';\n",
              "\n",
              "        async function convertToInteractive(key) {\n",
              "          const element = document.querySelector('#df-bb728408-4a66-40a2-b684-cae7a981744a');\n",
              "          const dataTable =\n",
              "            await google.colab.kernel.invokeFunction('convertToInteractive',\n",
              "                                                     [key], {});\n",
              "          if (!dataTable) return;\n",
              "\n",
              "          const docLinkHtml = 'Like what you see? Visit the ' +\n",
              "            '<a target=\"_blank\" href=https://colab.research.google.com/notebooks/data_table.ipynb>data table notebook</a>'\n",
              "            + ' to learn more about interactive tables.';\n",
              "          element.innerHTML = '';\n",
              "          dataTable['output_type'] = 'display_data';\n",
              "          await google.colab.output.renderOutput(dataTable, element);\n",
              "          const docLink = document.createElement('div');\n",
              "          docLink.innerHTML = docLinkHtml;\n",
              "          element.appendChild(docLink);\n",
              "        }\n",
              "      </script>\n",
              "    </div>\n",
              "  </div>\n",
              "  "
            ],
            "text/plain": [
              "                   Umur Harapan Hidup Saat Lahir (UHH) (2019)  Umur Harapan Hidup Saat Lahir (UHH) (2020)\n",
              "Provinsi                                                                                                 \n",
              "KALIMANTAN UTARA                                     0.055172                                    0.068927\n",
              "KALIMANTAN TENGAH                                    0.071798                                    0.071746\n",
              "ACEH                                                 0.330270                                    0.085874\n",
              "D I YOGYAKARTA                                       0.133654                                    0.093433\n",
              "JAMBI                                                0.239808                                    0.140726"
            ]
          },
          "metadata": {},
          "execution_count": 13
        }
      ]
    },
    {
      "cell_type": "code",
      "source": [
        "#Membuat dataframe baru yang berisi persentase perubahan UHH untuk 5 provinsi dengan persentase perubahan 2019-2020 paling rendah dengan format yang berbeda\n",
        "uhh_top5_tahun=['2019','2020','2019','2019','2019','2020','2019','2020','2020','2020']\n",
        "uhh_top5_2=pd.melt(uhh_prov_change.head().reset_index(),id_vars=['Provinsi'],value_vars=['Umur Harapan Hidup Saat Lahir (UHH) (2019)','Umur Harapan Hidup Saat Lahir (UHH) (2020)'],ignore_index=False)\n",
        "uhh_top5_2['variable']=uhh_top5_tahun\n",
        "\n",
        "#Memvisualisasikan pertumbuhan UHH tahun 2018-2019 dan 2019-2020 untuk 5 provinsi dengan persentase perubahan paling rendah pada 2019-2020\n",
        "plt.figure(figsize=(12,6))\n",
        "sns.barplot(y='Provinsi',x='value',data=uhh_top5_2,hue='variable',palette=['deepskyblue','salmon'])\n",
        "plt.title('Pertumbuhan UHH tahun 2018-2019 VS 2019-2020')\n",
        "plt.xlabel('Pertumbuhan UHH YoY (%)')\n",
        "plt.ylabel('Provinsi')\n",
        "plt.savefig('pertumbuhan uhh.png')"
      ],
      "metadata": {
        "colab": {
          "base_uri": "https://localhost:8080/",
          "height": 404
        },
        "id": "TtZxbe6Fd4ff",
        "outputId": "bfa43435-04ef-4e7f-e2ca-0c0253676273"
      },
      "execution_count": null,
      "outputs": [
        {
          "output_type": "display_data",
          "data": {
            "image/png": "[encoded data removed]",
            "text/plain": [
              "<Figure size 864x432 with 1 Axes>"
            ]
          },
          "metadata": {
            "needs_background": "light"
          }
        }
      ]
    },
    {
      "cell_type": "markdown",
      "source": [
        "### UHH Pulau Indonesia"
      ],
      "metadata": {
        "id": "UDB52N21nRiE"
      }
    },
    {
      "cell_type": "code",
      "source": [
        "#Contoh penggunaan fungsi 'Q2_UHH' untuk data pulau Kalimantan, Sulawesi, dan Maluku Papua\n",
        "Q2_UHH('Kalimantan')\n",
        "Q2_UHH('Sulawesi')\n",
        "Q2_UHH('Maluku_Papua')"
      ],
      "metadata": {
        "colab": {
          "base_uri": "https://localhost:8080/",
          "height": 1000
        },
        "id": "WG_KGtrnE_qa",
        "outputId": "58366af4-b2e0-418c-e7f6-ca3cef196c0a"
      },
      "execution_count": null,
      "outputs": [
        {
          "output_type": "display_data",
          "data": {
            "image/png": "[encoded data removed]",
            "text/plain": [
              "<Figure size 432x432 with 1 Axes>"
            ]
          },
          "metadata": {
            "needs_background": "light"
          }
        },
        {
          "output_type": "display_data",
          "data": {
            "image/png": "[encoded data removed]",
            "text/plain": [
              "<Figure size 432x432 with 1 Axes>"
            ]
          },
          "metadata": {
            "needs_background": "light"
          }
        },
        {
          "output_type": "display_data",
          "data": {
            "image/png": "[encoded data removed]",
            "text/plain": [
              "<Figure size 432x432 with 1 Axes>"
            ]
          },
          "metadata": {
            "needs_background": "light"
          }
        }
      ]
    },
    {
      "cell_type": "markdown",
      "source": [
        "## Q3"
      ],
      "metadata": {
        "id": "W7GP7PpuIgHF"
      }
    },
    {
      "cell_type": "markdown",
      "source": [
        "### PDB Lapangan Usaha"
      ],
      "metadata": {
        "id": "kqFO6hUdnlPI"
      }
    },
    {
      "cell_type": "code",
      "source": [
        "pdb_lu_hk_change = (pdb_lu_hk.pct_change(axis=1)*100).dropna(axis=1) #Dataframe baru yang berisi data tingkat perubahan PDB Lapangan Usaha (LU) YoY (dalam persen) \n",
        "pdb_lu_hk_change.sort_values(by = 'HK - Tahunan (2020)', inplace = True) #Mengurutkan data berdasarkan persentase pertumbuhan tahun 2020, dari kecil ke besar\n",
        "\n",
        "pdb_lu_hk_change.describe() #Menunjukkan statistik deskriptif untuk data tingkat perubahan PDB LU YoY"
      ],
      "metadata": {
        "id": "VkhMvvdAKq1U",
        "colab": {
          "base_uri": "https://localhost:8080/",
          "height": 344
        },
        "outputId": "d7bd8348-1e2b-499f-a795-cba4ddeab980"
      },
      "execution_count": null,
      "outputs": [
        {
          "output_type": "execute_result",
          "data": {
            "text/html": [
              "\n",
              "  <div id=\"df-f14c2719-ed53-42a6-b542-0f13d9509a6f\">\n",
              "    <div class=\"colab-df-container\">\n",
              "      <div>\n",
              "<style scoped>\n",
              "    .dataframe tbody tr th:only-of-type {\n",
              "        vertical-align: middle;\n",
              "    }\n",
              "\n",
              "    .dataframe tbody tr th {\n",
              "        vertical-align: top;\n",
              "    }\n",
              "\n",
              "    .dataframe thead th {\n",
              "        text-align: right;\n",
              "    }\n",
              "</style>\n",
              "<table border=\"1\" class=\"dataframe\">\n",
              "  <thead>\n",
              "    <tr style=\"text-align: right;\">\n",
              "      <th></th>\n",
              "      <th>HK - Tahunan (2016)</th>\n",
              "      <th>HK - Tahunan (2017)</th>\n",
              "      <th>HK - Tahunan (2018)</th>\n",
              "      <th>HK - Tahunan (2019)</th>\n",
              "      <th>HK - Tahunan (2020)</th>\n",
              "    </tr>\n",
              "  </thead>\n",
              "  <tbody>\n",
              "    <tr>\n",
              "      <th>count</th>\n",
              "      <td>17.000000</td>\n",
              "      <td>17.000000</td>\n",
              "      <td>17.000000</td>\n",
              "      <td>17.000000</td>\n",
              "      <td>17.000000</td>\n",
              "    </tr>\n",
              "    <tr>\n",
              "      <th>mean</th>\n",
              "      <td>5.264167</td>\n",
              "      <td>5.213683</td>\n",
              "      <td>5.698271</td>\n",
              "      <td>6.132508</td>\n",
              "      <td>-0.710721</td>\n",
              "    </tr>\n",
              "    <tr>\n",
              "      <th>std</th>\n",
              "      <td>2.199228</td>\n",
              "      <td>2.632404</td>\n",
              "      <td>1.811180</td>\n",
              "      <td>2.500719</td>\n",
              "      <td>6.655053</td>\n",
              "    </tr>\n",
              "    <tr>\n",
              "      <th>min</th>\n",
              "      <td>0.946910</td>\n",
              "      <td>0.656512</td>\n",
              "      <td>2.158146</td>\n",
              "      <td>1.217971</td>\n",
              "      <td>-15.047312</td>\n",
              "    </tr>\n",
              "    <tr>\n",
              "      <th>25%</th>\n",
              "      <td>3.839833</td>\n",
              "      <td>3.716795</td>\n",
              "      <td>4.274008</td>\n",
              "      <td>4.597863</td>\n",
              "      <td>-3.779950</td>\n",
              "    </tr>\n",
              "    <tr>\n",
              "      <th>50%</th>\n",
              "      <td>5.155039</td>\n",
              "      <td>4.593561</td>\n",
              "      <td>5.561469</td>\n",
              "      <td>5.787946</td>\n",
              "      <td>-1.951238</td>\n",
              "    </tr>\n",
              "    <tr>\n",
              "      <th>75%</th>\n",
              "      <td>7.362892</td>\n",
              "      <td>6.837044</td>\n",
              "      <td>7.020371</td>\n",
              "      <td>6.827295</td>\n",
              "      <td>2.611602</td>\n",
              "    </tr>\n",
              "    <tr>\n",
              "      <th>max</th>\n",
              "      <td>8.929792</td>\n",
              "      <td>9.628010</td>\n",
              "      <td>8.950091</td>\n",
              "      <td>10.574546</td>\n",
              "      <td>11.562274</td>\n",
              "    </tr>\n",
              "  </tbody>\n",
              "</table>\n",
              "</div>\n",
              "      <button class=\"colab-df-convert\" onclick=\"convertToInteractive('df-f14c2719-ed53-42a6-b542-0f13d9509a6f')\"\n",
              "              title=\"Convert this dataframe to an interactive table.\"\n",
              "              style=\"display:none;\">\n",
              "        \n",
              "  <svg xmlns=\"http://www.w3.org/2000/svg\" height=\"24px\"viewBox=\"0 0 24 24\"\n",
              "       width=\"24px\">\n",
              "    <path d=\"M0 0h24v24H0V0z\" fill=\"none\"/>\n",
              "    <path d=\"M18.56 5.44l.94 2.06.94-2.06 2.06-.94-2.06-.94-.94-2.06-.94 2.06-2.06.94zm-11 1L8.5 8.5l.94-2.06 2.06-.94-2.06-.94L8.5 2.5l-.94 2.06-2.06.94zm10 10l.94 2.06.94-2.06 2.06-.94-2.06-.94-.94-2.06-.94 2.06-2.06.94z\"/><path d=\"M17.41 7.96l-1.37-1.37c-.4-.4-.92-.59-1.43-.59-.52 0-1.04.2-1.43.59L10.3 9.45l-7.72 7.72c-.78.78-.78 2.05 0 2.83L4 21.41c.39.39.9.59 1.41.59.51 0 1.02-.2 1.41-.59l7.78-7.78 2.81-2.81c.8-.78.8-2.07 0-2.86zM5.41 20L4 18.59l7.72-7.72 1.47 1.35L5.41 20z\"/>\n",
              "  </svg>\n",
              "      </button>\n",
              "      \n",
              "  <style>\n",
              "    .colab-df-container {\n",
              "      display:flex;\n",
              "      flex-wrap:wrap;\n",
              "      gap: 12px;\n",
              "    }\n",
              "\n",
              "    .colab-df-convert {\n",
              "      background-color: #E8F0FE;\n",
              "      border: none;\n",
              "      border-radius: 50%;\n",
              "      cursor: pointer;\n",
              "      display: none;\n",
              "      fill: #1967D2;\n",
              "      height: 32px;\n",
              "      padding: 0 0 0 0;\n",
              "      width: 32px;\n",
              "    }\n",
              "\n",
              "    .colab-df-convert:hover {\n",
              "      background-color: #E2EBFA;\n",
              "      box-shadow: 0px 1px 2px rgba(60, 64, 67, 0.3), 0px 1px 3px 1px rgba(60, 64, 67, 0.15);\n",
              "      fill: #174EA6;\n",
              "    }\n",
              "\n",
              "    [theme=dark] .colab-df-convert {\n",
              "      background-color: #3B4455;\n",
              "      fill: #D2E3FC;\n",
              "    }\n",
              "\n",
              "    [theme=dark] .colab-df-convert:hover {\n",
              "      background-color: #434B5C;\n",
              "      box-shadow: 0px 1px 3px 1px rgba(0, 0, 0, 0.15);\n",
              "      filter: drop-shadow(0px 1px 2px rgba(0, 0, 0, 0.3));\n",
              "      fill: #FFFFFF;\n",
              "    }\n",
              "  </style>\n",
              "\n",
              "      <script>\n",
              "        const buttonEl =\n",
              "          document.querySelector('#df-f14c2719-ed53-42a6-b542-0f13d9509a6f button.colab-df-convert');\n",
              "        buttonEl.style.display =\n",
              "          google.colab.kernel.accessAllowed ? 'block' : 'none';\n",
              "\n",
              "        async function convertToInteractive(key) {\n",
              "          const element = document.querySelector('#df-f14c2719-ed53-42a6-b542-0f13d9509a6f');\n",
              "          const dataTable =\n",
              "            await google.colab.kernel.invokeFunction('convertToInteractive',\n",
              "                                                     [key], {});\n",
              "          if (!dataTable) return;\n",
              "\n",
              "          const docLinkHtml = 'Like what you see? Visit the ' +\n",
              "            '<a target=\"_blank\" href=https://colab.research.google.com/notebooks/data_table.ipynb>data table notebook</a>'\n",
              "            + ' to learn more about interactive tables.';\n",
              "          element.innerHTML = '';\n",
              "          dataTable['output_type'] = 'display_data';\n",
              "          await google.colab.output.renderOutput(dataTable, element);\n",
              "          const docLink = document.createElement('div');\n",
              "          docLink.innerHTML = docLinkHtml;\n",
              "          element.appendChild(docLink);\n",
              "        }\n",
              "      </script>\n",
              "    </div>\n",
              "  </div>\n",
              "  "
            ],
            "text/plain": [
              "       HK - Tahunan (2016)  ...  HK - Tahunan (2020)\n",
              "count            17.000000  ...            17.000000\n",
              "mean              5.264167  ...            -0.710721\n",
              "std               2.199228  ...             6.655053\n",
              "min               0.946910  ...           -15.047312\n",
              "25%               3.839833  ...            -3.779950\n",
              "50%               5.155039  ...            -1.951238\n",
              "75%               7.362892  ...             2.611602\n",
              "max               8.929792  ...            11.562274\n",
              "\n",
              "[8 rows x 5 columns]"
            ]
          },
          "metadata": {},
          "execution_count": 16
        }
      ]
    },
    {
      "cell_type": "code",
      "source": [
        "#Memvisualisasikan tingkat perubahan PDB untuk 5 sektor dengan tingkat perubahan terkecil pada tahun 2020 menggunakan bar chart\n",
        "plt.figure(figsize=(6,6))\n",
        "sns.barplot(x=pdb_lu_hk_change['HK - Tahunan (2020)'][:5],y=pdb_lu_hk_change.index[:5],palette=(\"Reds_r\"))\n",
        "plt.title('% Perubahan PDB - HK, 2019-2020')\n",
        "plt.ylabel('')\n",
        "plt.xlabel('YoY(%)')\n",
        "plt.show()"
      ],
      "metadata": {
        "colab": {
          "base_uri": "https://localhost:8080/",
          "height": 404
        },
        "id": "7FmGQh0fLSNi",
        "outputId": "e654c7c6-e3a6-456f-d4f7-748edd4f34a7"
      },
      "execution_count": null,
      "outputs": [
        {
          "output_type": "display_data",
          "data": {
            "image/png": "[encoded data removed]",
            "text/plain": [
              "<Figure size 432x432 with 1 Axes>"
            ]
          },
          "metadata": {
            "needs_background": "light"
          }
        }
      ]
    },
    {
      "cell_type": "markdown",
      "source": [
        "### Tren Wisatawan"
      ],
      "metadata": {
        "id": "bfIdqeKUnfgH"
      }
    },
    {
      "cell_type": "code",
      "source": [
        "#Memvisualisasikan tren wisatawan untuk tahun 2018-2020 menggunakan line chart\n",
        "plt.figure(figsize=(6,6))\n",
        "sns.lineplot(data=wisata.iloc[:,1:],palette=(\"rocket\"))\n",
        "plt.xticks(np.arange(3),wisata['Tahun'])\n",
        "plt.legend(bbox_to_anchor=(1.05,1),loc=2,borderaxespad=0)\n",
        "plt.title('Tren Wisatawan 2018-2020')\n",
        "plt.savefig('Tren wisata.png',bbox_inches='tight')"
      ],
      "metadata": {
        "colab": {
          "base_uri": "https://localhost:8080/",
          "height": 390
        },
        "id": "1s9yxsbL_O0F",
        "outputId": "5483f3b6-56aa-4c5d-cad2-90a6977c34cb"
      },
      "execution_count": null,
      "outputs": [
        {
          "output_type": "display_data",
          "data": {
            "image/png": "[encoded data removed]",
            "text/plain": [
              "<Figure size 432x432 with 1 Axes>"
            ]
          },
          "metadata": {
            "needs_background": "light"
          }
        }
      ]
    },
    {
      "cell_type": "markdown",
      "source": [
        "## Q4"
      ],
      "metadata": {
        "id": "Fwq4xkObdp5i"
      }
    },
    {
      "cell_type": "markdown",
      "source": [
        "### Function"
      ],
      "metadata": {
        "id": "KL2TpUdFnqfu"
      }
    },
    {
      "cell_type": "code",
      "source": [
        "#Function yang digunakan untuk menampilkan Year-over-Year (YoY) rata-rata Jumlah Penduduk Miskin (JPM) dari 6 Pulau di Indonesia. \n",
        "#Argumen yang diterima merupakan nama pulau (salah satu dari key dictionary pulau). \n",
        "def Q4_pct(nama): \n",
        "  pulau = {'Sumatera':0,'Jawa':1,'NT_Bali':2,'Kalimantan':3,'Sulawesi':4,'Maluku_Papua':5}\n",
        "  i = pulau[nama]\n",
        "  pix = [0,10,16,19,24,30,34]\n",
        "\n",
        "  #Pertama-tama dilakukan slicing dataframe sesuai dengan indent provinsi yang sesuai dengan argumen pulau dan memanfaatkan pct_change untuk memperoleh YoY tahunan. \n",
        "  jpm_pulau=jpm_total_tahunan_change.iloc[pix[i]:pix[i+1],:]\n",
        "  jpm_pulau.loc['Rata rata']=jpm_pulau.mean()\n",
        "  jpm_pulau_rata2=jpm_pulau.iloc[-1,:].to_frame(name='jpm_pulau_mean')\n",
        "\n",
        "  #Setelah itu memvisualisasikan bar chart dengan matplotlib.\n",
        "  fig, ax1 = plt.subplots(figsize=(6, 6))\n",
        "  ax1.bar(range(2016,2022), jpm_pulau_rata2['jpm_pulau_mean'], color=np.where(jpm_pulau_rata2['jpm_pulau_mean'] < 0, 'crimson', 'deepskyblue'))\n",
        "  plt.title(f'Tingkat Perubahan Jumlah Masyarakat Miskin ({nama})', fontsize = 14)\n",
        "  ax1.set_ylabel('Perubahan Jumlah Masyarakat Miskin', fontsize = 14)"
      ],
      "metadata": {
        "id": "0D9C4mhEnrgJ"
      },
      "execution_count": null,
      "outputs": []
    },
    {
      "cell_type": "markdown",
      "source": [
        "### YoY JPM Tahunan"
      ],
      "metadata": {
        "id": "eqpfDMZsnvp-"
      }
    },
    {
      "cell_type": "code",
      "source": [
        "jpm_total_tahunan.iloc[:-1,:].describe() #Menunjukkan statistik deskriptif untuk data Jumlah Penduduk Miskin (JPM) pada provinsi-provinsi di Indonesia"
      ],
      "metadata": {
        "colab": {
          "base_uri": "https://localhost:8080/",
          "height": 300
        },
        "id": "rpXKdmUMj98r",
        "outputId": "441b049b-aca4-43b7-b219-09dd0df1498e"
      },
      "execution_count": null,
      "outputs": [
        {
          "output_type": "execute_result",
          "data": {
            "text/html": [
              "\n",
              "  <div id=\"df-bdc49c34-a96f-4403-bfb7-f60fea01ce53\">\n",
              "    <div class=\"colab-df-container\">\n",
              "      <div>\n",
              "<style scoped>\n",
              "    .dataframe tbody tr th:only-of-type {\n",
              "        vertical-align: middle;\n",
              "    }\n",
              "\n",
              "    .dataframe tbody tr th {\n",
              "        vertical-align: top;\n",
              "    }\n",
              "\n",
              "    .dataframe thead th {\n",
              "        text-align: right;\n",
              "    }\n",
              "</style>\n",
              "<table border=\"1\" class=\"dataframe\">\n",
              "  <thead>\n",
              "    <tr style=\"text-align: right;\">\n",
              "      <th></th>\n",
              "      <th>2015_S1</th>\n",
              "      <th>2016_S1</th>\n",
              "      <th>2017_S1</th>\n",
              "      <th>2018_S1</th>\n",
              "      <th>2019_S1</th>\n",
              "      <th>2020_S1</th>\n",
              "      <th>2021_S1</th>\n",
              "    </tr>\n",
              "  </thead>\n",
              "  <tbody>\n",
              "    <tr>\n",
              "      <th>count</th>\n",
              "      <td>34.000000</td>\n",
              "      <td>34.000000</td>\n",
              "      <td>34.000000</td>\n",
              "      <td>34.000000</td>\n",
              "      <td>34.000000</td>\n",
              "      <td>34.000000</td>\n",
              "      <td>34.000000</td>\n",
              "    </tr>\n",
              "    <tr>\n",
              "      <th>mean</th>\n",
              "      <td>840.965294</td>\n",
              "      <td>823.687941</td>\n",
              "      <td>816.801176</td>\n",
              "      <td>763.230000</td>\n",
              "      <td>739.550882</td>\n",
              "      <td>777.177059</td>\n",
              "      <td>810.081176</td>\n",
              "    </tr>\n",
              "    <tr>\n",
              "      <th>std</th>\n",
              "      <td>1241.989237</td>\n",
              "      <td>1210.553668</td>\n",
              "      <td>1191.693491</td>\n",
              "      <td>1066.308208</td>\n",
              "      <td>1013.238699</td>\n",
              "      <td>1106.927498</td>\n",
              "      <td>1155.642268</td>\n",
              "    </tr>\n",
              "    <tr>\n",
              "      <th>min</th>\n",
              "      <td>39.690000</td>\n",
              "      <td>41.120000</td>\n",
              "      <td>49.470000</td>\n",
              "      <td>50.350000</td>\n",
              "      <td>48.780000</td>\n",
              "      <td>51.790000</td>\n",
              "      <td>52.860000</td>\n",
              "    </tr>\n",
              "    <tr>\n",
              "      <th>25%</th>\n",
              "      <td>207.265000</td>\n",
              "      <td>202.912500</td>\n",
              "      <td>200.502500</td>\n",
              "      <td>194.610000</td>\n",
              "      <td>191.895000</td>\n",
              "      <td>188.995000</td>\n",
              "      <td>203.505000</td>\n",
              "    </tr>\n",
              "    <tr>\n",
              "      <th>50%</th>\n",
              "      <td>381.655000</td>\n",
              "      <td>376.455000</td>\n",
              "      <td>375.970000</td>\n",
              "      <td>365.125000</td>\n",
              "      <td>356.885000</td>\n",
              "      <td>355.500000</td>\n",
              "      <td>369.280000</td>\n",
              "    </tr>\n",
              "    <tr>\n",
              "      <th>75%</th>\n",
              "      <td>844.665000</td>\n",
              "      <td>838.087500</td>\n",
              "      <td>857.725000</td>\n",
              "      <td>827.775000</td>\n",
              "      <td>806.530000</td>\n",
              "      <td>805.390000</td>\n",
              "      <td>858.982500</td>\n",
              "    </tr>\n",
              "    <tr>\n",
              "      <th>max</th>\n",
              "      <td>4789.120000</td>\n",
              "      <td>4703.300000</td>\n",
              "      <td>4617.010000</td>\n",
              "      <td>4332.590000</td>\n",
              "      <td>4112.250000</td>\n",
              "      <td>4419.100000</td>\n",
              "      <td>4572.730000</td>\n",
              "    </tr>\n",
              "  </tbody>\n",
              "</table>\n",
              "</div>\n",
              "      <button class=\"colab-df-convert\" onclick=\"convertToInteractive('df-bdc49c34-a96f-4403-bfb7-f60fea01ce53')\"\n",
              "              title=\"Convert this dataframe to an interactive table.\"\n",
              "              style=\"display:none;\">\n",
              "        \n",
              "  <svg xmlns=\"http://www.w3.org/2000/svg\" height=\"24px\"viewBox=\"0 0 24 24\"\n",
              "       width=\"24px\">\n",
              "    <path d=\"M0 0h24v24H0V0z\" fill=\"none\"/>\n",
              "    <path d=\"M18.56 5.44l.94 2.06.94-2.06 2.06-.94-2.06-.94-.94-2.06-.94 2.06-2.06.94zm-11 1L8.5 8.5l.94-2.06 2.06-.94-2.06-.94L8.5 2.5l-.94 2.06-2.06.94zm10 10l.94 2.06.94-2.06 2.06-.94-2.06-.94-.94-2.06-.94 2.06-2.06.94z\"/><path d=\"M17.41 7.96l-1.37-1.37c-.4-.4-.92-.59-1.43-.59-.52 0-1.04.2-1.43.59L10.3 9.45l-7.72 7.72c-.78.78-.78 2.05 0 2.83L4 21.41c.39.39.9.59 1.41.59.51 0 1.02-.2 1.41-.59l7.78-7.78 2.81-2.81c.8-.78.8-2.07 0-2.86zM5.41 20L4 18.59l7.72-7.72 1.47 1.35L5.41 20z\"/>\n",
              "  </svg>\n",
              "      </button>\n",
              "      \n",
              "  <style>\n",
              "    .colab-df-container {\n",
              "      display:flex;\n",
              "      flex-wrap:wrap;\n",
              "      gap: 12px;\n",
              "    }\n",
              "\n",
              "    .colab-df-convert {\n",
              "      background-color: #E8F0FE;\n",
              "      border: none;\n",
              "      border-radius: 50%;\n",
              "      cursor: pointer;\n",
              "      display: none;\n",
              "      fill: #1967D2;\n",
              "      height: 32px;\n",
              "      padding: 0 0 0 0;\n",
              "      width: 32px;\n",
              "    }\n",
              "\n",
              "    .colab-df-convert:hover {\n",
              "      background-color: #E2EBFA;\n",
              "      box-shadow: 0px 1px 2px rgba(60, 64, 67, 0.3), 0px 1px 3px 1px rgba(60, 64, 67, 0.15);\n",
              "      fill: #174EA6;\n",
              "    }\n",
              "\n",
              "    [theme=dark] .colab-df-convert {\n",
              "      background-color: #3B4455;\n",
              "      fill: #D2E3FC;\n",
              "    }\n",
              "\n",
              "    [theme=dark] .colab-df-convert:hover {\n",
              "      background-color: #434B5C;\n",
              "      box-shadow: 0px 1px 3px 1px rgba(0, 0, 0, 0.15);\n",
              "      filter: drop-shadow(0px 1px 2px rgba(0, 0, 0, 0.3));\n",
              "      fill: #FFFFFF;\n",
              "    }\n",
              "  </style>\n",
              "\n",
              "      <script>\n",
              "        const buttonEl =\n",
              "          document.querySelector('#df-bdc49c34-a96f-4403-bfb7-f60fea01ce53 button.colab-df-convert');\n",
              "        buttonEl.style.display =\n",
              "          google.colab.kernel.accessAllowed ? 'block' : 'none';\n",
              "\n",
              "        async function convertToInteractive(key) {\n",
              "          const element = document.querySelector('#df-bdc49c34-a96f-4403-bfb7-f60fea01ce53');\n",
              "          const dataTable =\n",
              "            await google.colab.kernel.invokeFunction('convertToInteractive',\n",
              "                                                     [key], {});\n",
              "          if (!dataTable) return;\n",
              "\n",
              "          const docLinkHtml = 'Like what you see? Visit the ' +\n",
              "            '<a target=\"_blank\" href=https://colab.research.google.com/notebooks/data_table.ipynb>data table notebook</a>'\n",
              "            + ' to learn more about interactive tables.';\n",
              "          element.innerHTML = '';\n",
              "          dataTable['output_type'] = 'display_data';\n",
              "          await google.colab.output.renderOutput(dataTable, element);\n",
              "          const docLink = document.createElement('div');\n",
              "          docLink.innerHTML = docLinkHtml;\n",
              "          element.appendChild(docLink);\n",
              "        }\n",
              "      </script>\n",
              "    </div>\n",
              "  </div>\n",
              "  "
            ],
            "text/plain": [
              "           2015_S1      2016_S1  ...      2020_S1      2021_S1\n",
              "count    34.000000    34.000000  ...    34.000000    34.000000\n",
              "mean    840.965294   823.687941  ...   777.177059   810.081176\n",
              "std    1241.989237  1210.553668  ...  1106.927498  1155.642268\n",
              "min      39.690000    41.120000  ...    51.790000    52.860000\n",
              "25%     207.265000   202.912500  ...   188.995000   203.505000\n",
              "50%     381.655000   376.455000  ...   355.500000   369.280000\n",
              "75%     844.665000   838.087500  ...   805.390000   858.982500\n",
              "max    4789.120000  4703.300000  ...  4419.100000  4572.730000\n",
              "\n",
              "[8 rows x 7 columns]"
            ]
          },
          "metadata": {},
          "execution_count": 20
        }
      ]
    },
    {
      "cell_type": "code",
      "source": [
        "jpm_total_tahunan_change = (100*jpm_total_tahunan.pct_change(axis=1)).dropna(axis=1) #Dataframe baru yang berisi data tingkat perubahan JPM YoY (dalam persen) \n",
        "jpm_total_tahunan_change.iloc[:-1,:].describe() #Menunjukkan statistik deskriptif untuk data tingkat perubahan JPM pada provinsi-provinsi di Indonesia"
      ],
      "metadata": {
        "colab": {
          "base_uri": "https://localhost:8080/",
          "height": 300
        },
        "id": "Dt29KSECkq1P",
        "outputId": "95390189-efe0-4026-b32a-71874b69a270"
      },
      "execution_count": null,
      "outputs": [
        {
          "output_type": "execute_result",
          "data": {
            "text/html": [
              "\n",
              "  <div id=\"df-d11bcec5-61d3-44ff-82ce-be005ae923a4\">\n",
              "    <div class=\"colab-df-container\">\n",
              "      <div>\n",
              "<style scoped>\n",
              "    .dataframe tbody tr th:only-of-type {\n",
              "        vertical-align: middle;\n",
              "    }\n",
              "\n",
              "    .dataframe tbody tr th {\n",
              "        vertical-align: top;\n",
              "    }\n",
              "\n",
              "    .dataframe thead th {\n",
              "        text-align: right;\n",
              "    }\n",
              "</style>\n",
              "<table border=\"1\" class=\"dataframe\">\n",
              "  <thead>\n",
              "    <tr style=\"text-align: right;\">\n",
              "      <th></th>\n",
              "      <th>2016_S1</th>\n",
              "      <th>2017_S1</th>\n",
              "      <th>2018_S1</th>\n",
              "      <th>2019_S1</th>\n",
              "      <th>2020_S1</th>\n",
              "      <th>2021_S1</th>\n",
              "    </tr>\n",
              "  </thead>\n",
              "  <tbody>\n",
              "    <tr>\n",
              "      <th>count</th>\n",
              "      <td>34.000000</td>\n",
              "      <td>34.000000</td>\n",
              "      <td>34.000000</td>\n",
              "      <td>34.000000</td>\n",
              "      <td>34.000000</td>\n",
              "      <td>34.000000</td>\n",
              "    </tr>\n",
              "    <tr>\n",
              "      <th>mean</th>\n",
              "      <td>-1.982169</td>\n",
              "      <td>0.457056</td>\n",
              "      <td>-2.701196</td>\n",
              "      <td>-2.038912</td>\n",
              "      <td>2.527168</td>\n",
              "      <td>4.637308</td>\n",
              "    </tr>\n",
              "    <tr>\n",
              "      <th>std</th>\n",
              "      <td>3.189457</td>\n",
              "      <td>4.019725</td>\n",
              "      <td>4.282226</td>\n",
              "      <td>2.591097</td>\n",
              "      <td>6.988897</td>\n",
              "      <td>4.247420</td>\n",
              "    </tr>\n",
              "    <tr>\n",
              "      <th>min</th>\n",
              "      <td>-10.048525</td>\n",
              "      <td>-3.539150</td>\n",
              "      <td>-13.257957</td>\n",
              "      <td>-10.333071</td>\n",
              "      <td>-3.076029</td>\n",
              "      <td>0.305368</td>\n",
              "    </tr>\n",
              "    <tr>\n",
              "      <th>25%</th>\n",
              "      <td>-3.473332</td>\n",
              "      <td>-1.453822</td>\n",
              "      <td>-4.751004</td>\n",
              "      <td>-3.099534</td>\n",
              "      <td>-1.205916</td>\n",
              "      <td>1.590544</td>\n",
              "    </tr>\n",
              "    <tr>\n",
              "      <th>50%</th>\n",
              "      <td>-1.699519</td>\n",
              "      <td>-0.390755</td>\n",
              "      <td>-2.517794</td>\n",
              "      <td>-2.134342</td>\n",
              "      <td>0.251871</td>\n",
              "      <td>3.540108</td>\n",
              "    </tr>\n",
              "    <tr>\n",
              "      <th>75%</th>\n",
              "      <td>-0.288148</td>\n",
              "      <td>1.463499</td>\n",
              "      <td>-0.244828</td>\n",
              "      <td>-0.374444</td>\n",
              "      <td>2.572326</td>\n",
              "      <td>5.734037</td>\n",
              "    </tr>\n",
              "    <tr>\n",
              "      <th>max</th>\n",
              "      <td>6.073445</td>\n",
              "      <td>20.306420</td>\n",
              "      <td>6.525435</td>\n",
              "      <td>3.854653</td>\n",
              "      <td>31.544248</td>\n",
              "      <td>22.265270</td>\n",
              "    </tr>\n",
              "  </tbody>\n",
              "</table>\n",
              "</div>\n",
              "      <button class=\"colab-df-convert\" onclick=\"convertToInteractive('df-d11bcec5-61d3-44ff-82ce-be005ae923a4')\"\n",
              "              title=\"Convert this dataframe to an interactive table.\"\n",
              "              style=\"display:none;\">\n",
              "        \n",
              "  <svg xmlns=\"http://www.w3.org/2000/svg\" height=\"24px\"viewBox=\"0 0 24 24\"\n",
              "       width=\"24px\">\n",
              "    <path d=\"M0 0h24v24H0V0z\" fill=\"none\"/>\n",
              "    <path d=\"M18.56 5.44l.94 2.06.94-2.06 2.06-.94-2.06-.94-.94-2.06-.94 2.06-2.06.94zm-11 1L8.5 8.5l.94-2.06 2.06-.94-2.06-.94L8.5 2.5l-.94 2.06-2.06.94zm10 10l.94 2.06.94-2.06 2.06-.94-2.06-.94-.94-2.06-.94 2.06-2.06.94z\"/><path d=\"M17.41 7.96l-1.37-1.37c-.4-.4-.92-.59-1.43-.59-.52 0-1.04.2-1.43.59L10.3 9.45l-7.72 7.72c-.78.78-.78 2.05 0 2.83L4 21.41c.39.39.9.59 1.41.59.51 0 1.02-.2 1.41-.59l7.78-7.78 2.81-2.81c.8-.78.8-2.07 0-2.86zM5.41 20L4 18.59l7.72-7.72 1.47 1.35L5.41 20z\"/>\n",
              "  </svg>\n",
              "      </button>\n",
              "      \n",
              "  <style>\n",
              "    .colab-df-container {\n",
              "      display:flex;\n",
              "      flex-wrap:wrap;\n",
              "      gap: 12px;\n",
              "    }\n",
              "\n",
              "    .colab-df-convert {\n",
              "      background-color: #E8F0FE;\n",
              "      border: none;\n",
              "      border-radius: 50%;\n",
              "      cursor: pointer;\n",
              "      display: none;\n",
              "      fill: #1967D2;\n",
              "      height: 32px;\n",
              "      padding: 0 0 0 0;\n",
              "      width: 32px;\n",
              "    }\n",
              "\n",
              "    .colab-df-convert:hover {\n",
              "      background-color: #E2EBFA;\n",
              "      box-shadow: 0px 1px 2px rgba(60, 64, 67, 0.3), 0px 1px 3px 1px rgba(60, 64, 67, 0.15);\n",
              "      fill: #174EA6;\n",
              "    }\n",
              "\n",
              "    [theme=dark] .colab-df-convert {\n",
              "      background-color: #3B4455;\n",
              "      fill: #D2E3FC;\n",
              "    }\n",
              "\n",
              "    [theme=dark] .colab-df-convert:hover {\n",
              "      background-color: #434B5C;\n",
              "      box-shadow: 0px 1px 3px 1px rgba(0, 0, 0, 0.15);\n",
              "      filter: drop-shadow(0px 1px 2px rgba(0, 0, 0, 0.3));\n",
              "      fill: #FFFFFF;\n",
              "    }\n",
              "  </style>\n",
              "\n",
              "      <script>\n",
              "        const buttonEl =\n",
              "          document.querySelector('#df-d11bcec5-61d3-44ff-82ce-be005ae923a4 button.colab-df-convert');\n",
              "        buttonEl.style.display =\n",
              "          google.colab.kernel.accessAllowed ? 'block' : 'none';\n",
              "\n",
              "        async function convertToInteractive(key) {\n",
              "          const element = document.querySelector('#df-d11bcec5-61d3-44ff-82ce-be005ae923a4');\n",
              "          const dataTable =\n",
              "            await google.colab.kernel.invokeFunction('convertToInteractive',\n",
              "                                                     [key], {});\n",
              "          if (!dataTable) return;\n",
              "\n",
              "          const docLinkHtml = 'Like what you see? Visit the ' +\n",
              "            '<a target=\"_blank\" href=https://colab.research.google.com/notebooks/data_table.ipynb>data table notebook</a>'\n",
              "            + ' to learn more about interactive tables.';\n",
              "          element.innerHTML = '';\n",
              "          dataTable['output_type'] = 'display_data';\n",
              "          await google.colab.output.renderOutput(dataTable, element);\n",
              "          const docLink = document.createElement('div');\n",
              "          docLink.innerHTML = docLinkHtml;\n",
              "          element.appendChild(docLink);\n",
              "        }\n",
              "      </script>\n",
              "    </div>\n",
              "  </div>\n",
              "  "
            ],
            "text/plain": [
              "         2016_S1    2017_S1    2018_S1    2019_S1    2020_S1    2021_S1\n",
              "count  34.000000  34.000000  34.000000  34.000000  34.000000  34.000000\n",
              "mean   -1.982169   0.457056  -2.701196  -2.038912   2.527168   4.637308\n",
              "std     3.189457   4.019725   4.282226   2.591097   6.988897   4.247420\n",
              "min   -10.048525  -3.539150 -13.257957 -10.333071  -3.076029   0.305368\n",
              "25%    -3.473332  -1.453822  -4.751004  -3.099534  -1.205916   1.590544\n",
              "50%    -1.699519  -0.390755  -2.517794  -2.134342   0.251871   3.540108\n",
              "75%    -0.288148   1.463499  -0.244828  -0.374444   2.572326   5.734037\n",
              "max     6.073445  20.306420   6.525435   3.854653  31.544248  22.265270"
            ]
          },
          "metadata": {},
          "execution_count": 21
        }
      ]
    },
    {
      "cell_type": "markdown",
      "source": [
        "### JPM Pulau Indonesia"
      ],
      "metadata": {
        "id": "awqLBDibnyDX"
      }
    },
    {
      "cell_type": "code",
      "source": [
        "#Contoh penggunaanfungsi 'Q4_pct' untuk data pulau Kalimantan dan Maluku Papua\n",
        "Q4_pct('Kalimantan')\n",
        "Q4_pct('Maluku_Papua')"
      ],
      "metadata": {
        "colab": {
          "base_uri": "https://localhost:8080/",
          "height": 765
        },
        "id": "DXSdke0OnO0C",
        "outputId": "56db0c55-0495-407c-fd09-012e4b774fcb"
      },
      "execution_count": null,
      "outputs": [
        {
          "output_type": "display_data",
          "data": {
            "image/png": "[encoded data removed]",
            "text/plain": [
              "<Figure size 432x432 with 1 Axes>"
            ]
          },
          "metadata": {
            "needs_background": "light"
          }
        },
        {
          "output_type": "display_data",
          "data": {
            "image/png": "[encoded data removed]",
            "text/plain": [
              "<Figure size 432x432 with 1 Axes>"
            ]
          },
          "metadata": {
            "needs_background": "light"
          }
        }
      ]
    },
    {
      "cell_type": "markdown",
      "source": [
        "### YoY P1 Tahunan"
      ],
      "metadata": {
        "id": "ZA9R-PQ6n4zh"
      }
    },
    {
      "cell_type": "code",
      "source": [
        "p1_change = (p1.pct_change(axis=1)*100).dropna(axis=1) #Dataframe baru yang berisi data tingkat perubahan Indeks Keparahan Kemiskinan (P1) YoY (dalam persen) \n",
        "p1_change.iloc[:-1,:].describe() #Menunjukkan statistik deskriptif untuk data tingkat perubahan Indeks Keparahan Kemiskinan (P1) pada provinsi-provinsi di Indonesia"
      ],
      "metadata": {
        "colab": {
          "base_uri": "https://localhost:8080/",
          "height": 300
        },
        "id": "BXjph6GQnPNB",
        "outputId": "94835eba-065e-458c-a7fa-79b1d3f23152"
      },
      "execution_count": null,
      "outputs": [
        {
          "output_type": "execute_result",
          "data": {
            "text/html": [
              "\n",
              "  <div id=\"df-76c8e93e-20dd-4b65-8eaf-5de92f97c68d\">\n",
              "    <div class=\"colab-df-container\">\n",
              "      <div>\n",
              "<style scoped>\n",
              "    .dataframe tbody tr th:only-of-type {\n",
              "        vertical-align: middle;\n",
              "    }\n",
              "\n",
              "    .dataframe tbody tr th {\n",
              "        vertical-align: top;\n",
              "    }\n",
              "\n",
              "    .dataframe thead th {\n",
              "        text-align: right;\n",
              "    }\n",
              "</style>\n",
              "<table border=\"1\" class=\"dataframe\">\n",
              "  <thead>\n",
              "    <tr style=\"text-align: right;\">\n",
              "      <th></th>\n",
              "      <th>2016_P1</th>\n",
              "      <th>2017_P1</th>\n",
              "      <th>2018_P1</th>\n",
              "      <th>2019_P1</th>\n",
              "      <th>2020_P1</th>\n",
              "      <th>2021_P1</th>\n",
              "    </tr>\n",
              "  </thead>\n",
              "  <tbody>\n",
              "    <tr>\n",
              "      <th>count</th>\n",
              "      <td>34.000000</td>\n",
              "      <td>34.000000</td>\n",
              "      <td>34.000000</td>\n",
              "      <td>34.000000</td>\n",
              "      <td>34.000000</td>\n",
              "      <td>34.000000</td>\n",
              "    </tr>\n",
              "    <tr>\n",
              "      <th>mean</th>\n",
              "      <td>0.243638</td>\n",
              "      <td>-3.139970</td>\n",
              "      <td>-2.643744</td>\n",
              "      <td>-7.653028</td>\n",
              "      <td>4.595691</td>\n",
              "      <td>4.472266</td>\n",
              "    </tr>\n",
              "    <tr>\n",
              "      <th>std</th>\n",
              "      <td>10.526260</td>\n",
              "      <td>15.639738</td>\n",
              "      <td>10.097064</td>\n",
              "      <td>9.458034</td>\n",
              "      <td>14.577817</td>\n",
              "      <td>10.836494</td>\n",
              "    </tr>\n",
              "    <tr>\n",
              "      <th>min</th>\n",
              "      <td>-22.727273</td>\n",
              "      <td>-32.246377</td>\n",
              "      <td>-16.847826</td>\n",
              "      <td>-31.000000</td>\n",
              "      <td>-27.586207</td>\n",
              "      <td>-13.178295</td>\n",
              "    </tr>\n",
              "    <tr>\n",
              "      <th>25%</th>\n",
              "      <td>-6.782744</td>\n",
              "      <td>-10.152054</td>\n",
              "      <td>-9.059561</td>\n",
              "      <td>-13.230057</td>\n",
              "      <td>-2.067443</td>\n",
              "      <td>-3.356297</td>\n",
              "    </tr>\n",
              "    <tr>\n",
              "      <th>50%</th>\n",
              "      <td>0.905732</td>\n",
              "      <td>-5.697772</td>\n",
              "      <td>-4.572772</td>\n",
              "      <td>-7.201844</td>\n",
              "      <td>3.211580</td>\n",
              "      <td>3.180759</td>\n",
              "    </tr>\n",
              "    <tr>\n",
              "      <th>75%</th>\n",
              "      <td>7.770563</td>\n",
              "      <td>0.474943</td>\n",
              "      <td>2.710213</td>\n",
              "      <td>-2.318046</td>\n",
              "      <td>10.729614</td>\n",
              "      <td>8.742409</td>\n",
              "    </tr>\n",
              "    <tr>\n",
              "      <th>max</th>\n",
              "      <td>15.555556</td>\n",
              "      <td>55.128205</td>\n",
              "      <td>40.816327</td>\n",
              "      <td>9.313725</td>\n",
              "      <td>60.869565</td>\n",
              "      <td>30.769231</td>\n",
              "    </tr>\n",
              "  </tbody>\n",
              "</table>\n",
              "</div>\n",
              "      <button class=\"colab-df-convert\" onclick=\"convertToInteractive('df-76c8e93e-20dd-4b65-8eaf-5de92f97c68d')\"\n",
              "              title=\"Convert this dataframe to an interactive table.\"\n",
              "              style=\"display:none;\">\n",
              "        \n",
              "  <svg xmlns=\"http://www.w3.org/2000/svg\" height=\"24px\"viewBox=\"0 0 24 24\"\n",
              "       width=\"24px\">\n",
              "    <path d=\"M0 0h24v24H0V0z\" fill=\"none\"/>\n",
              "    <path d=\"M18.56 5.44l.94 2.06.94-2.06 2.06-.94-2.06-.94-.94-2.06-.94 2.06-2.06.94zm-11 1L8.5 8.5l.94-2.06 2.06-.94-2.06-.94L8.5 2.5l-.94 2.06-2.06.94zm10 10l.94 2.06.94-2.06 2.06-.94-2.06-.94-.94-2.06-.94 2.06-2.06.94z\"/><path d=\"M17.41 7.96l-1.37-1.37c-.4-.4-.92-.59-1.43-.59-.52 0-1.04.2-1.43.59L10.3 9.45l-7.72 7.72c-.78.78-.78 2.05 0 2.83L4 21.41c.39.39.9.59 1.41.59.51 0 1.02-.2 1.41-.59l7.78-7.78 2.81-2.81c.8-.78.8-2.07 0-2.86zM5.41 20L4 18.59l7.72-7.72 1.47 1.35L5.41 20z\"/>\n",
              "  </svg>\n",
              "      </button>\n",
              "      \n",
              "  <style>\n",
              "    .colab-df-container {\n",
              "      display:flex;\n",
              "      flex-wrap:wrap;\n",
              "      gap: 12px;\n",
              "    }\n",
              "\n",
              "    .colab-df-convert {\n",
              "      background-color: #E8F0FE;\n",
              "      border: none;\n",
              "      border-radius: 50%;\n",
              "      cursor: pointer;\n",
              "      display: none;\n",
              "      fill: #1967D2;\n",
              "      height: 32px;\n",
              "      padding: 0 0 0 0;\n",
              "      width: 32px;\n",
              "    }\n",
              "\n",
              "    .colab-df-convert:hover {\n",
              "      background-color: #E2EBFA;\n",
              "      box-shadow: 0px 1px 2px rgba(60, 64, 67, 0.3), 0px 1px 3px 1px rgba(60, 64, 67, 0.15);\n",
              "      fill: #174EA6;\n",
              "    }\n",
              "\n",
              "    [theme=dark] .colab-df-convert {\n",
              "      background-color: #3B4455;\n",
              "      fill: #D2E3FC;\n",
              "    }\n",
              "\n",
              "    [theme=dark] .colab-df-convert:hover {\n",
              "      background-color: #434B5C;\n",
              "      box-shadow: 0px 1px 3px 1px rgba(0, 0, 0, 0.15);\n",
              "      filter: drop-shadow(0px 1px 2px rgba(0, 0, 0, 0.3));\n",
              "      fill: #FFFFFF;\n",
              "    }\n",
              "  </style>\n",
              "\n",
              "      <script>\n",
              "        const buttonEl =\n",
              "          document.querySelector('#df-76c8e93e-20dd-4b65-8eaf-5de92f97c68d button.colab-df-convert');\n",
              "        buttonEl.style.display =\n",
              "          google.colab.kernel.accessAllowed ? 'block' : 'none';\n",
              "\n",
              "        async function convertToInteractive(key) {\n",
              "          const element = document.querySelector('#df-76c8e93e-20dd-4b65-8eaf-5de92f97c68d');\n",
              "          const dataTable =\n",
              "            await google.colab.kernel.invokeFunction('convertToInteractive',\n",
              "                                                     [key], {});\n",
              "          if (!dataTable) return;\n",
              "\n",
              "          const docLinkHtml = 'Like what you see? Visit the ' +\n",
              "            '<a target=\"_blank\" href=https://colab.research.google.com/notebooks/data_table.ipynb>data table notebook</a>'\n",
              "            + ' to learn more about interactive tables.';\n",
              "          element.innerHTML = '';\n",
              "          dataTable['output_type'] = 'display_data';\n",
              "          await google.colab.output.renderOutput(dataTable, element);\n",
              "          const docLink = document.createElement('div');\n",
              "          docLink.innerHTML = docLinkHtml;\n",
              "          element.appendChild(docLink);\n",
              "        }\n",
              "      </script>\n",
              "    </div>\n",
              "  </div>\n",
              "  "
            ],
            "text/plain": [
              "         2016_P1    2017_P1    2018_P1    2019_P1    2020_P1    2021_P1\n",
              "count  34.000000  34.000000  34.000000  34.000000  34.000000  34.000000\n",
              "mean    0.243638  -3.139970  -2.643744  -7.653028   4.595691   4.472266\n",
              "std    10.526260  15.639738  10.097064   9.458034  14.577817  10.836494\n",
              "min   -22.727273 -32.246377 -16.847826 -31.000000 -27.586207 -13.178295\n",
              "25%    -6.782744 -10.152054  -9.059561 -13.230057  -2.067443  -3.356297\n",
              "50%     0.905732  -5.697772  -4.572772  -7.201844   3.211580   3.180759\n",
              "75%     7.770563   0.474943   2.710213  -2.318046  10.729614   8.742409\n",
              "max    15.555556  55.128205  40.816327   9.313725  60.869565  30.769231"
            ]
          },
          "metadata": {},
          "execution_count": 23
        }
      ]
    },
    {
      "cell_type": "code",
      "source": [
        "#Mengurutkan data tingkat perubahan indeks P1 dari nilai terbesar ke nilai terkecil berdasarkan tingkat perubahan pada tahun 2020\n",
        "p1_change.sort_values(by='2020_P1',ascending=False,inplace=True) \n",
        "\n",
        "#Memvisualisasikan tingkat perubahan/pertumbuhan indeks P1 2019-2020 untuk 5 provinsi dengan pertumbuhan terbesar\n",
        "plt.figure(figsize=(12,4))\n",
        "sns.barplot(x=p1_change['2020_P1'].head().index,y='2020_P1',data=p1_change['2020_P1'].head().to_frame(),palette=['deepskyblue','salmon','mediumspringgreen','sandybrown','plum'])\n",
        "plt.title('Pertumbuhan Indeks P1 2019-2020')\n",
        "plt.xlabel('Provinsi')\n",
        "plt.ylabel('Pertumbuhan Indeks P1')\n",
        "plt.show()"
      ],
      "metadata": {
        "colab": {
          "base_uri": "https://localhost:8080/",
          "height": 295
        },
        "id": "60brUZA1qQdv",
        "outputId": "c6264f8c-c78d-40ba-89c7-2a917e3192f1"
      },
      "execution_count": null,
      "outputs": [
        {
          "output_type": "display_data",
          "data": {
            "image/png": "[encoded data removed]",
            "text/plain": [
              "<Figure size 864x288 with 1 Axes>"
            ]
          },
          "metadata": {
            "needs_background": "light"
          }
        }
      ]
    },
    {
      "cell_type": "markdown",
      "source": [
        "### YoY P2 Tahunan"
      ],
      "metadata": {
        "id": "rGQiw7MVoDBi"
      }
    },
    {
      "cell_type": "code",
      "source": [
        "p2_change = (p2.pct_change(axis=1)*100).dropna(axis=1) #Dataframe baru yang berisi data tingkat perubahan Indeks Keparahan Kemiskinan (P2) YoY (dalam persen) \n",
        "p2_change.iloc[:-1,:].describe() #Menunjukkan statistik deskriptif untuk data tingkat perubahan Indeks Keparahan Kemiskinan (P2) pada provinsi-provinsi di Indonesia"
      ],
      "metadata": {
        "colab": {
          "base_uri": "https://localhost:8080/",
          "height": 300
        },
        "id": "kDbJPMW9q-YG",
        "outputId": "4e42f779-b9c6-43ab-8e99-5a95cf32aa98"
      },
      "execution_count": null,
      "outputs": [
        {
          "output_type": "execute_result",
          "data": {
            "text/html": [
              "\n",
              "  <div id=\"df-0071cd51-3c29-4aea-8203-13c76f4ebd2f\">\n",
              "    <div class=\"colab-df-container\">\n",
              "      <div>\n",
              "<style scoped>\n",
              "    .dataframe tbody tr th:only-of-type {\n",
              "        vertical-align: middle;\n",
              "    }\n",
              "\n",
              "    .dataframe tbody tr th {\n",
              "        vertical-align: top;\n",
              "    }\n",
              "\n",
              "    .dataframe thead th {\n",
              "        text-align: right;\n",
              "    }\n",
              "</style>\n",
              "<table border=\"1\" class=\"dataframe\">\n",
              "  <thead>\n",
              "    <tr style=\"text-align: right;\">\n",
              "      <th></th>\n",
              "      <th>2016_P2</th>\n",
              "      <th>2017_P2</th>\n",
              "      <th>2018_P2</th>\n",
              "      <th>2019_P2</th>\n",
              "      <th>2020_P2</th>\n",
              "      <th>2021_P2</th>\n",
              "    </tr>\n",
              "  </thead>\n",
              "  <tbody>\n",
              "    <tr>\n",
              "      <th>count</th>\n",
              "      <td>34.000000</td>\n",
              "      <td>34.000000</td>\n",
              "      <td>34.000000</td>\n",
              "      <td>34.000000</td>\n",
              "      <td>34.000000</td>\n",
              "      <td>34.000000</td>\n",
              "    </tr>\n",
              "    <tr>\n",
              "      <th>mean</th>\n",
              "      <td>1.997393</td>\n",
              "      <td>-1.956947</td>\n",
              "      <td>-2.537735</td>\n",
              "      <td>-12.591656</td>\n",
              "      <td>8.200311</td>\n",
              "      <td>7.009450</td>\n",
              "    </tr>\n",
              "    <tr>\n",
              "      <th>std</th>\n",
              "      <td>19.950780</td>\n",
              "      <td>29.804746</td>\n",
              "      <td>17.458130</td>\n",
              "      <td>15.598860</td>\n",
              "      <td>27.971706</td>\n",
              "      <td>21.700026</td>\n",
              "    </tr>\n",
              "    <tr>\n",
              "      <th>min</th>\n",
              "      <td>-35.714286</td>\n",
              "      <td>-51.111111</td>\n",
              "      <td>-25.742574</td>\n",
              "      <td>-50.000000</td>\n",
              "      <td>-45.161290</td>\n",
              "      <td>-25.000000</td>\n",
              "    </tr>\n",
              "    <tr>\n",
              "      <th>25%</th>\n",
              "      <td>-13.242894</td>\n",
              "      <td>-18.340909</td>\n",
              "      <td>-12.697335</td>\n",
              "      <td>-22.306723</td>\n",
              "      <td>-6.584225</td>\n",
              "      <td>-5.059746</td>\n",
              "    </tr>\n",
              "    <tr>\n",
              "      <th>50%</th>\n",
              "      <td>5.031056</td>\n",
              "      <td>-4.210993</td>\n",
              "      <td>-4.880952</td>\n",
              "      <td>-10.818713</td>\n",
              "      <td>4.136116</td>\n",
              "      <td>3.199710</td>\n",
              "    </tr>\n",
              "    <tr>\n",
              "      <th>75%</th>\n",
              "      <td>18.620148</td>\n",
              "      <td>5.661765</td>\n",
              "      <td>3.955314</td>\n",
              "      <td>-5.251025</td>\n",
              "      <td>14.756016</td>\n",
              "      <td>12.907609</td>\n",
              "    </tr>\n",
              "    <tr>\n",
              "      <th>max</th>\n",
              "      <td>39.393939</td>\n",
              "      <td>100.000000</td>\n",
              "      <td>75.000000</td>\n",
              "      <td>14.814815</td>\n",
              "      <td>133.333333</td>\n",
              "      <td>72.727273</td>\n",
              "    </tr>\n",
              "  </tbody>\n",
              "</table>\n",
              "</div>\n",
              "      <button class=\"colab-df-convert\" onclick=\"convertToInteractive('df-0071cd51-3c29-4aea-8203-13c76f4ebd2f')\"\n",
              "              title=\"Convert this dataframe to an interactive table.\"\n",
              "              style=\"display:none;\">\n",
              "        \n",
              "  <svg xmlns=\"http://www.w3.org/2000/svg\" height=\"24px\"viewBox=\"0 0 24 24\"\n",
              "       width=\"24px\">\n",
              "    <path d=\"M0 0h24v24H0V0z\" fill=\"none\"/>\n",
              "    <path d=\"M18.56 5.44l.94 2.06.94-2.06 2.06-.94-2.06-.94-.94-2.06-.94 2.06-2.06.94zm-11 1L8.5 8.5l.94-2.06 2.06-.94-2.06-.94L8.5 2.5l-.94 2.06-2.06.94zm10 10l.94 2.06.94-2.06 2.06-.94-2.06-.94-.94-2.06-.94 2.06-2.06.94z\"/><path d=\"M17.41 7.96l-1.37-1.37c-.4-.4-.92-.59-1.43-.59-.52 0-1.04.2-1.43.59L10.3 9.45l-7.72 7.72c-.78.78-.78 2.05 0 2.83L4 21.41c.39.39.9.59 1.41.59.51 0 1.02-.2 1.41-.59l7.78-7.78 2.81-2.81c.8-.78.8-2.07 0-2.86zM5.41 20L4 18.59l7.72-7.72 1.47 1.35L5.41 20z\"/>\n",
              "  </svg>\n",
              "      </button>\n",
              "      \n",
              "  <style>\n",
              "    .colab-df-container {\n",
              "      display:flex;\n",
              "      flex-wrap:wrap;\n",
              "      gap: 12px;\n",
              "    }\n",
              "\n",
              "    .colab-df-convert {\n",
              "      background-color: #E8F0FE;\n",
              "      border: none;\n",
              "      border-radius: 50%;\n",
              "      cursor: pointer;\n",
              "      display: none;\n",
              "      fill: #1967D2;\n",
              "      height: 32px;\n",
              "      padding: 0 0 0 0;\n",
              "      width: 32px;\n",
              "    }\n",
              "\n",
              "    .colab-df-convert:hover {\n",
              "      background-color: #E2EBFA;\n",
              "      box-shadow: 0px 1px 2px rgba(60, 64, 67, 0.3), 0px 1px 3px 1px rgba(60, 64, 67, 0.15);\n",
              "      fill: #174EA6;\n",
              "    }\n",
              "\n",
              "    [theme=dark] .colab-df-convert {\n",
              "      background-color: #3B4455;\n",
              "      fill: #D2E3FC;\n",
              "    }\n",
              "\n",
              "    [theme=dark] .colab-df-convert:hover {\n",
              "      background-color: #434B5C;\n",
              "      box-shadow: 0px 1px 3px 1px rgba(0, 0, 0, 0.15);\n",
              "      filter: drop-shadow(0px 1px 2px rgba(0, 0, 0, 0.3));\n",
              "      fill: #FFFFFF;\n",
              "    }\n",
              "  </style>\n",
              "\n",
              "      <script>\n",
              "        const buttonEl =\n",
              "          document.querySelector('#df-0071cd51-3c29-4aea-8203-13c76f4ebd2f button.colab-df-convert');\n",
              "        buttonEl.style.display =\n",
              "          google.colab.kernel.accessAllowed ? 'block' : 'none';\n",
              "\n",
              "        async function convertToInteractive(key) {\n",
              "          const element = document.querySelector('#df-0071cd51-3c29-4aea-8203-13c76f4ebd2f');\n",
              "          const dataTable =\n",
              "            await google.colab.kernel.invokeFunction('convertToInteractive',\n",
              "                                                     [key], {});\n",
              "          if (!dataTable) return;\n",
              "\n",
              "          const docLinkHtml = 'Like what you see? Visit the ' +\n",
              "            '<a target=\"_blank\" href=https://colab.research.google.com/notebooks/data_table.ipynb>data table notebook</a>'\n",
              "            + ' to learn more about interactive tables.';\n",
              "          element.innerHTML = '';\n",
              "          dataTable['output_type'] = 'display_data';\n",
              "          await google.colab.output.renderOutput(dataTable, element);\n",
              "          const docLink = document.createElement('div');\n",
              "          docLink.innerHTML = docLinkHtml;\n",
              "          element.appendChild(docLink);\n",
              "        }\n",
              "      </script>\n",
              "    </div>\n",
              "  </div>\n",
              "  "
            ],
            "text/plain": [
              "         2016_P2     2017_P2    2018_P2    2019_P2     2020_P2    2021_P2\n",
              "count  34.000000   34.000000  34.000000  34.000000   34.000000  34.000000\n",
              "mean    1.997393   -1.956947  -2.537735 -12.591656    8.200311   7.009450\n",
              "std    19.950780   29.804746  17.458130  15.598860   27.971706  21.700026\n",
              "min   -35.714286  -51.111111 -25.742574 -50.000000  -45.161290 -25.000000\n",
              "25%   -13.242894  -18.340909 -12.697335 -22.306723   -6.584225  -5.059746\n",
              "50%     5.031056   -4.210993  -4.880952 -10.818713    4.136116   3.199710\n",
              "75%    18.620148    5.661765   3.955314  -5.251025   14.756016  12.907609\n",
              "max    39.393939  100.000000  75.000000  14.814815  133.333333  72.727273"
            ]
          },
          "metadata": {},
          "execution_count": 25
        }
      ]
    },
    {
      "cell_type": "code",
      "source": [
        "#Mengurutkan data tingkat perubahan indeks P2 dari nilai terbesar ke nilai terkecil berdasarkan tingkat perubahan pada tahun 2020\n",
        "p2_change.sort_values(by='2020_P2',ascending=False,inplace=True)\n",
        "\n",
        "#Memvisualisasikan tingkat perubahan/pertumbuhan indeks P2 2019-2020 untuk 5 provinsi dengan pertumbuhan terbesar\n",
        "plt.figure(figsize=(12,4))\n",
        "sns.barplot(x=p2_change['2020_P2'].head().index,y='2020_P2',data=p2_change['2020_P2'].head().to_frame(),palette=['deepskyblue','salmon','mediumspringgreen','sandybrown','plum'])\n",
        "plt.title('Pertumbuhan Indeks P2 2019-2020')\n",
        "plt.xlabel('Provinsi')\n",
        "plt.ylabel('Pertumbuhan Indeks P2')\n",
        "plt.show()"
      ],
      "metadata": {
        "colab": {
          "base_uri": "https://localhost:8080/",
          "height": 295
        },
        "id": "Dcu04gVXrMlo",
        "outputId": "d65a344b-2ab6-4345-e839-6bebacce2ab4"
      },
      "execution_count": null,
      "outputs": [
        {
          "output_type": "display_data",
          "data": {
            "image/png": "[encoded data removed]",
            "text/plain": [
              "<Figure size 864x288 with 1 Axes>"
            ]
          },
          "metadata": {
            "needs_background": "light"
          }
        }
      ]
    },
    {
      "cell_type": "markdown",
      "source": [
        "# *ML Deployment*"
      ],
      "metadata": {
        "id": "LlnJsKeOinGo"
      }
    },
    {
      "cell_type": "markdown",
      "source": [
        "## *Function*"
      ],
      "metadata": {
        "id": "XmrKvcVaiwex"
      }
    },
    {
      "cell_type": "markdown",
      "source": [
        "### *Feature Engineering Function*"
      ],
      "metadata": {
        "id": "QX6QFu-CVNi5"
      }
    },
    {
      "cell_type": "markdown",
      "source": [
        "Angka minimum dan maksiumum diperoleh dari data booklet BPS: https://www.bps.go.id/website/pdf_publikasi/Booklet-IPM-Metode-Baru.pdf "
      ],
      "metadata": {
        "id": "o4XyWdECVSLy"
      }
    },
    {
      "cell_type": "code",
      "source": [
        "UHH_max,UHH_min = 85,20\n",
        "RLS_max,RLS_min = 15,0\n",
        "HLS_max,HLS_min = 18,0\n",
        "ln_PPP_min,ln_PPP_max = np.log(1007436/1000),np.log(26572352/1000)\n",
        "\n",
        "def fe(df):\n",
        "\n",
        "  for i in range(2020,2022): #Tahun 2021 & 2021\n",
        "    df[f'I.RLS_{i}'] = (df[f'Rata-rata Lama Sekolah ({i})']-RLS_min)/(RLS_max-RLS_min) #Variabel Indeks Rata-rata Lama Sekolah\n",
        "    df[f'I.HLS_{i}'] = (df[f'Harapan Lama Sekolah ({i})']-HLS_min)/(HLS_max-HLS_min) #Variabel Indeks Harapan Lama Sekolah\n",
        "    df[f'I.PD_{i}'] = (df[f'I.RLS_{i}']+df[f'I.HLS_{i}'])*(0.5) #Variabel Indeks Pendidikan Sekolah\n",
        "\n",
        "  df['I.PG_2021'] = (np.log(df['Pengeluaran per Kapita Disesuaikan (Ribu Rupiah/Orang) (2021)'])-ln_PPP_min)/(ln_PPP_max-ln_PPP_min) #Variabel Indeks Pengeluaran Sekolah\n",
        "  transformed = df['Indeks Pembangunan Manusia (2021)']**(3)/(df['I.PG_2021']*df['I.PD_2021']) #Standardized IPM \n",
        "  return (transformed, np.log(df['I.PD_2020']), np.log(df['I.PD_2021']))"
      ],
      "metadata": {
        "id": "H6sRZuFkiwGT"
      },
      "execution_count": null,
      "outputs": []
    },
    {
      "cell_type": "markdown",
      "source": [
        "### *Cross Validation Function*"
      ],
      "metadata": {
        "id": "MghZP3AaVVYK"
      }
    },
    {
      "cell_type": "code",
      "source": [
        "def cv(X, y):\n",
        "  lr = LinearRegression() # Model Regresi Linier\n",
        "  neg_rmse = cross_val_score(lr, X, y, cv=5, scoring='neg_root_mean_squared_error') # 5-Folds CV\n",
        "  print(f\"5-Folds RMSE Results: {(-neg_rmse)}\") \n",
        "  print(f\"Average CV : {-neg_rmse.mean()}\") "
      ],
      "metadata": {
        "id": "LhDmTCu1VdVz"
      },
      "execution_count": null,
      "outputs": []
    },
    {
      "cell_type": "markdown",
      "source": [
        "## *Feature Engineering & Selection*"
      ],
      "metadata": {
        "id": "rAvzD6sCjWzQ"
      }
    },
    {
      "cell_type": "code",
      "source": [
        "train['transformed'],train['In.PD_2020'],train['In.PD_2021'] = fe(train) #Feature Engineering - Pembuatan Feature (untuk dataset Train dan Test)\n",
        "test['transformed'],test['In.PD_2020'],test['In.PD_2021'] = fe(test)\n",
        "\n",
        "#Set variabel predictor dan label\n",
        "X = train[['transformed','In.PD_2020','In.PD_2021','Indeks Pembangunan Manusia (2020)', 'Indeks Pembangunan Manusia (2021)']]\n",
        "y = train['Umur Harapan Hidup Saat Lahir (UHH) (2021)']"
      ],
      "metadata": {
        "id": "71qqK2RcjH1B"
      },
      "execution_count": null,
      "outputs": []
    },
    {
      "cell_type": "markdown",
      "source": [
        "## *Model Validation*"
      ],
      "metadata": {
        "id": "eA-s5UtpjepV"
      }
    },
    {
      "cell_type": "code",
      "source": [
        "cv(X,y)  #Cross validation berdasarkan RMSE"
      ],
      "metadata": {
        "id": "lAa5BpJBjgso",
        "colab": {
          "base_uri": "https://localhost:8080/"
        },
        "outputId": "f4cc42ab-8a8f-4568-eae9-1489935642ae"
      },
      "execution_count": null,
      "outputs": [
        {
          "output_type": "stream",
          "name": "stdout",
          "text": [
            "5-Folds RMSE Results: [0.00677161 0.00593765 0.00640455 0.00590507 0.00668346]\n",
            "Average CV : 0.0063404680818891\n"
          ]
        }
      ]
    },
    {
      "cell_type": "markdown",
      "source": [
        "## *Predict*"
      ],
      "metadata": {
        "id": "1yg4HtBQj0Sf"
      }
    },
    {
      "cell_type": "code",
      "source": [
        "X_test = test[X.columns] #Menyiapkan feature untuk dataset Test\n",
        "\n",
        "#Model dilatih pada data train\n",
        "lr = LinearRegression()\n",
        "lr.fit(X, y)\n",
        "\n",
        "#Memperoleh hasil prediksi\n",
        "y_pred = lr.predict(X_test)\n",
        "\n",
        "#Menyiapkan template submission\n",
        "submit = test[['Id']]\n",
        "submit[sub.columns[1]] = y_pred\n",
        "#submit.to_csv('nama.csv', index=False)"
      ],
      "metadata": {
        "id": "tIDJG2yQj2BG"
      },
      "execution_count": null,
      "outputs": []
    }
  ]
}